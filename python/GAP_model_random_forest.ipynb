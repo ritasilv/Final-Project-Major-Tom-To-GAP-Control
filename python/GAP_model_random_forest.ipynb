{
 "cells": [
  {
   "cell_type": "markdown",
   "metadata": {
    "toc": true
   },
   "source": [
    "<h1>Table of Contents<span class=\"tocSkip\"></span></h1>\n",
    "<div class=\"toc\"><ul class=\"toc-item\"><li><span><a href=\"#Import-the-data\" data-toc-modified-id=\"Import-the-data-1\"><span class=\"toc-item-num\">1&nbsp;&nbsp;</span>Import the data</a></span></li><li><span><a href=\"#Enconding-categoricals\" data-toc-modified-id=\"Enconding-categoricals-2\"><span class=\"toc-item-num\">2&nbsp;&nbsp;</span>Enconding categoricals</a></span></li><li><span><a href=\"#Train-test-split\" data-toc-modified-id=\"Train-test-split-3\"><span class=\"toc-item-num\">3&nbsp;&nbsp;</span>Train-test split</a></span></li><li><span><a href=\"#Data-transformation\" data-toc-modified-id=\"Data-transformation-4\"><span class=\"toc-item-num\">4&nbsp;&nbsp;</span>Data transformation</a></span></li><li><span><a href=\"#Fit-the-model\" data-toc-modified-id=\"Fit-the-model-5\"><span class=\"toc-item-num\">5&nbsp;&nbsp;</span>Fit the model</a></span><ul class=\"toc-item\"><li><ul class=\"toc-item\"><li><ul class=\"toc-item\"><li><span><a href=\"#Get-Dummies-encoding\" data-toc-modified-id=\"Get-Dummies-encoding-5.0.0.1\"><span class=\"toc-item-num\">5.0.0.1&nbsp;&nbsp;</span>Get Dummies encoding</a></span></li></ul></li><li><span><a href=\"#Ordinal-encoding-with-mapping\" data-toc-modified-id=\"Ordinal-encoding-with-mapping-5.0.1\"><span class=\"toc-item-num\">5.0.1&nbsp;&nbsp;</span>Ordinal encoding with mapping</a></span></li></ul></li></ul></li></ul></div>"
   ]
  },
  {
   "cell_type": "code",
   "execution_count": 253,
   "metadata": {},
   "outputs": [],
   "source": [
    "import pandas as pd\n",
    "import numpy as np\n",
    "import warnings\n",
    "warnings.filterwarnings('ignore')\n",
    "from sklearn.model_selection import train_test_split\n",
    "from sklearn.preprocessing import StandardScaler\n",
    "from sklearn.ensemble import RandomForestRegressor\n",
    "from sklearn.model_selection import cross_val_score\n",
    "from sklearn.preprocessing import OrdinalEncoder\n",
    "import pickle\n",
    "import helper as func\n",
    "from sklearn.metrics import mean_squared_error\n",
    "import math"
   ]
  },
  {
   "cell_type": "markdown",
   "metadata": {},
   "source": [
    "## Import the data"
   ]
  },
  {
   "cell_type": "code",
   "execution_count": 254,
   "metadata": {},
   "outputs": [],
   "source": [
    "data = pd.read_csv('df_model1.csv')"
   ]
  },
  {
   "cell_type": "code",
   "execution_count": 352,
   "metadata": {},
   "outputs": [],
   "source": [
    "df_eu = pd.read_csv('/Users/ritasilva/Final-Project-Major-Tom-To-GAP-Control/df_model_eu.csv')"
   ]
  },
  {
   "cell_type": "code",
   "execution_count": 354,
   "metadata": {},
   "outputs": [],
   "source": [
    "df_eu = df_eu[['country', 'experience_ml', 'age','role_group','gender','salary_avg']]"
   ]
  },
  {
   "cell_type": "code",
   "execution_count": 355,
   "metadata": {},
   "outputs": [],
   "source": [
    "df_eu.to_csv('df_model_strm.csv')"
   ]
  },
  {
   "cell_type": "code",
   "execution_count": 353,
   "metadata": {},
   "outputs": [
    {
     "data": {
      "text/html": [
       "<div>\n",
       "<style scoped>\n",
       "    .dataframe tbody tr th:only-of-type {\n",
       "        vertical-align: middle;\n",
       "    }\n",
       "\n",
       "    .dataframe tbody tr th {\n",
       "        vertical-align: top;\n",
       "    }\n",
       "\n",
       "    .dataframe thead th {\n",
       "        text-align: right;\n",
       "    }\n",
       "</style>\n",
       "<table border=\"1\" class=\"dataframe\">\n",
       "  <thead>\n",
       "    <tr style=\"text-align: right;\">\n",
       "      <th></th>\n",
       "      <th>Unnamed: 0</th>\n",
       "      <th>age</th>\n",
       "      <th>gender</th>\n",
       "      <th>country</th>\n",
       "      <th>education</th>\n",
       "      <th>experience_prog</th>\n",
       "      <th>experience_ml</th>\n",
       "      <th>industry</th>\n",
       "      <th>company_size_g</th>\n",
       "      <th>team_size_g</th>\n",
       "      <th>role_group</th>\n",
       "      <th>programming_lang_c</th>\n",
       "      <th>salary_avg</th>\n",
       "    </tr>\n",
       "  </thead>\n",
       "  <tbody>\n",
       "    <tr>\n",
       "      <th>0</th>\n",
       "      <td>10</td>\n",
       "      <td>4</td>\n",
       "      <td>0</td>\n",
       "      <td>10</td>\n",
       "      <td>4</td>\n",
       "      <td>4</td>\n",
       "      <td>4</td>\n",
       "      <td>1</td>\n",
       "      <td>1</td>\n",
       "      <td>0</td>\n",
       "      <td>0</td>\n",
       "      <td>4</td>\n",
       "      <td>103.062890</td>\n",
       "    </tr>\n",
       "    <tr>\n",
       "      <th>1</th>\n",
       "      <td>11</td>\n",
       "      <td>7</td>\n",
       "      <td>0</td>\n",
       "      <td>14</td>\n",
       "      <td>2</td>\n",
       "      <td>5</td>\n",
       "      <td>1</td>\n",
       "      <td>8</td>\n",
       "      <td>2</td>\n",
       "      <td>0</td>\n",
       "      <td>2</td>\n",
       "      <td>2</td>\n",
       "      <td>53.329616</td>\n",
       "    </tr>\n",
       "    <tr>\n",
       "      <th>2</th>\n",
       "      <td>17</td>\n",
       "      <td>2</td>\n",
       "      <td>1</td>\n",
       "      <td>6</td>\n",
       "      <td>3</td>\n",
       "      <td>2</td>\n",
       "      <td>0</td>\n",
       "      <td>0</td>\n",
       "      <td>0</td>\n",
       "      <td>0</td>\n",
       "      <td>1</td>\n",
       "      <td>2</td>\n",
       "      <td>141.718289</td>\n",
       "    </tr>\n",
       "    <tr>\n",
       "      <th>3</th>\n",
       "      <td>24</td>\n",
       "      <td>2</td>\n",
       "      <td>0</td>\n",
       "      <td>5</td>\n",
       "      <td>3</td>\n",
       "      <td>1</td>\n",
       "      <td>0</td>\n",
       "      <td>8</td>\n",
       "      <td>0</td>\n",
       "      <td>0</td>\n",
       "      <td>3</td>\n",
       "      <td>2</td>\n",
       "      <td>156.159535</td>\n",
       "    </tr>\n",
       "    <tr>\n",
       "      <th>4</th>\n",
       "      <td>38</td>\n",
       "      <td>0</td>\n",
       "      <td>0</td>\n",
       "      <td>0</td>\n",
       "      <td>2</td>\n",
       "      <td>2</td>\n",
       "      <td>0</td>\n",
       "      <td>0</td>\n",
       "      <td>0</td>\n",
       "      <td>3</td>\n",
       "      <td>1</td>\n",
       "      <td>2</td>\n",
       "      <td>27.020808</td>\n",
       "    </tr>\n",
       "  </tbody>\n",
       "</table>\n",
       "</div>"
      ],
      "text/plain": [
       "   Unnamed: 0  age  gender  country  education  experience_prog  \\\n",
       "0          10    4       0       10          4                4   \n",
       "1          11    7       0       14          2                5   \n",
       "2          17    2       1        6          3                2   \n",
       "3          24    2       0        5          3                1   \n",
       "4          38    0       0        0          2                2   \n",
       "\n",
       "   experience_ml  industry  company_size_g  team_size_g  role_group  \\\n",
       "0              4         1               1            0           0   \n",
       "1              1         8               2            0           2   \n",
       "2              0         0               0            0           1   \n",
       "3              0         8               0            0           3   \n",
       "4              0         0               0            3           1   \n",
       "\n",
       "   programming_lang_c  salary_avg  \n",
       "0                   4  103.062890  \n",
       "1                   2   53.329616  \n",
       "2                   2  141.718289  \n",
       "3                   2  156.159535  \n",
       "4                   2   27.020808  "
      ]
     },
     "execution_count": 353,
     "metadata": {},
     "output_type": "execute_result"
    }
   ],
   "source": [
    "df_eu.drop['']"
   ]
  },
  {
   "cell_type": "code",
   "execution_count": 255,
   "metadata": {},
   "outputs": [
    {
     "data": {
      "text/html": [
       "<div>\n",
       "<style scoped>\n",
       "    .dataframe tbody tr th:only-of-type {\n",
       "        vertical-align: middle;\n",
       "    }\n",
       "\n",
       "    .dataframe tbody tr th {\n",
       "        vertical-align: top;\n",
       "    }\n",
       "\n",
       "    .dataframe thead th {\n",
       "        text-align: right;\n",
       "    }\n",
       "</style>\n",
       "<table border=\"1\" class=\"dataframe\">\n",
       "  <thead>\n",
       "    <tr style=\"text-align: right;\">\n",
       "      <th></th>\n",
       "      <th>Unnamed: 0</th>\n",
       "      <th>age</th>\n",
       "      <th>gender</th>\n",
       "      <th>country</th>\n",
       "      <th>education</th>\n",
       "      <th>experience_prog</th>\n",
       "      <th>programming_lang_c</th>\n",
       "      <th>experience_ml</th>\n",
       "      <th>industry</th>\n",
       "      <th>company_size_g</th>\n",
       "      <th>team_size_g</th>\n",
       "      <th>role_group</th>\n",
       "      <th>salary_avg</th>\n",
       "    </tr>\n",
       "  </thead>\n",
       "  <tbody>\n",
       "    <tr>\n",
       "      <th>0</th>\n",
       "      <td>10</td>\n",
       "      <td>35-39</td>\n",
       "      <td>Man</td>\n",
       "      <td>Greece</td>\n",
       "      <td>Doctoral degree</td>\n",
       "      <td>10-20 years</td>\n",
       "      <td>4</td>\n",
       "      <td>4-5 years</td>\n",
       "      <td>Academics/Education</td>\n",
       "      <td>Medium</td>\n",
       "      <td>Small</td>\n",
       "      <td>Data Scientist</td>\n",
       "      <td>12500.0</td>\n",
       "    </tr>\n",
       "    <tr>\n",
       "      <th>1</th>\n",
       "      <td>11</td>\n",
       "      <td>50-54</td>\n",
       "      <td>Man</td>\n",
       "      <td>Belgium</td>\n",
       "      <td>Bachelor’s degree</td>\n",
       "      <td>20+ years</td>\n",
       "      <td>2</td>\n",
       "      <td>1-2 years</td>\n",
       "      <td>Energy/Mining</td>\n",
       "      <td>Large</td>\n",
       "      <td>Small</td>\n",
       "      <td>Data Analyst</td>\n",
       "      <td>2500.0</td>\n",
       "    </tr>\n",
       "    <tr>\n",
       "      <th>2</th>\n",
       "      <td>16</td>\n",
       "      <td>25-29</td>\n",
       "      <td>Woman</td>\n",
       "      <td>Poland</td>\n",
       "      <td>Master’s degree</td>\n",
       "      <td>3-5 years</td>\n",
       "      <td>2</td>\n",
       "      <td>Under 1 year</td>\n",
       "      <td>Computers/Technology</td>\n",
       "      <td>Small</td>\n",
       "      <td>Small</td>\n",
       "      <td>Data Engineer</td>\n",
       "      <td>27500.0</td>\n",
       "    </tr>\n",
       "    <tr>\n",
       "      <th>3</th>\n",
       "      <td>25</td>\n",
       "      <td>25-29</td>\n",
       "      <td>Man</td>\n",
       "      <td>Italy</td>\n",
       "      <td>Master’s degree</td>\n",
       "      <td>1-3 years</td>\n",
       "      <td>2</td>\n",
       "      <td>Under 1 year</td>\n",
       "      <td>Energy/Mining</td>\n",
       "      <td>Small</td>\n",
       "      <td>Small</td>\n",
       "      <td>Other</td>\n",
       "      <td>35000.0</td>\n",
       "    </tr>\n",
       "    <tr>\n",
       "      <th>4</th>\n",
       "      <td>36</td>\n",
       "      <td>35-39</td>\n",
       "      <td>Woman</td>\n",
       "      <td>Russia</td>\n",
       "      <td>I prefer not to answer</td>\n",
       "      <td>1-3 years</td>\n",
       "      <td>2</td>\n",
       "      <td>No experience</td>\n",
       "      <td>Academics/Education</td>\n",
       "      <td>Large</td>\n",
       "      <td>Small</td>\n",
       "      <td>Data Scientist</td>\n",
       "      <td>500.0</td>\n",
       "    </tr>\n",
       "  </tbody>\n",
       "</table>\n",
       "</div>"
      ],
      "text/plain": [
       "   Unnamed: 0    age gender  country               education experience_prog  \\\n",
       "0          10  35-39    Man   Greece         Doctoral degree     10-20 years   \n",
       "1          11  50-54    Man  Belgium       Bachelor’s degree       20+ years   \n",
       "2          16  25-29  Woman   Poland         Master’s degree       3-5 years   \n",
       "3          25  25-29    Man    Italy         Master’s degree       1-3 years   \n",
       "4          36  35-39  Woman   Russia  I prefer not to answer       1-3 years   \n",
       "\n",
       "   programming_lang_c  experience_ml              industry company_size_g  \\\n",
       "0                   4      4-5 years   Academics/Education         Medium   \n",
       "1                   2      1-2 years         Energy/Mining          Large   \n",
       "2                   2   Under 1 year  Computers/Technology          Small   \n",
       "3                   2   Under 1 year         Energy/Mining          Small   \n",
       "4                   2  No experience   Academics/Education          Large   \n",
       "\n",
       "  team_size_g      role_group  salary_avg  \n",
       "0       Small  Data Scientist     12500.0  \n",
       "1       Small    Data Analyst      2500.0  \n",
       "2       Small   Data Engineer     27500.0  \n",
       "3       Small           Other     35000.0  \n",
       "4       Small  Data Scientist       500.0  "
      ]
     },
     "execution_count": 255,
     "metadata": {},
     "output_type": "execute_result"
    }
   ],
   "source": [
    "data.head()"
   ]
  },
  {
   "cell_type": "code",
   "execution_count": 315,
   "metadata": {},
   "outputs": [
    {
     "data": {
      "text/plain": [
       "25-29    524\n",
       "30-34    495\n",
       "35-39    390\n",
       "40-44    311\n",
       "45-49    268\n",
       "22-24    217\n",
       "50-54    184\n",
       "55-59    117\n",
       "18-21     83\n",
       "Name: age, dtype: int64"
      ]
     },
     "execution_count": 315,
     "metadata": {},
     "output_type": "execute_result"
    }
   ],
   "source": [
    "data['age'].value_counts()"
   ]
  },
  {
   "cell_type": "code",
   "execution_count": 256,
   "metadata": {},
   "outputs": [],
   "source": [
    "data = data.drop(['Unnamed: 0'], axis=1)"
   ]
  },
  {
   "cell_type": "code",
   "execution_count": 257,
   "metadata": {},
   "outputs": [
    {
     "data": {
      "text/plain": [
       "(2589, 12)"
      ]
     },
     "execution_count": 257,
     "metadata": {},
     "output_type": "execute_result"
    }
   ],
   "source": [
    "data.shape"
   ]
  },
  {
   "cell_type": "markdown",
   "metadata": {},
   "source": [
    "## Enconding categoricals"
   ]
  },
  {
   "cell_type": "code",
   "execution_count": 258,
   "metadata": {},
   "outputs": [],
   "source": [
    "X = data.drop('salary_avg', axis=1)\n",
    "y = data['salary_avg']"
   ]
  },
  {
   "cell_type": "code",
   "execution_count": 259,
   "metadata": {},
   "outputs": [],
   "source": [
    "enc = OrdinalEncoder()\n",
    "X = enc.fit_transform(X)"
   ]
  },
  {
   "cell_type": "markdown",
   "metadata": {},
   "source": [
    "## Train-test split"
   ]
  },
  {
   "cell_type": "code",
   "execution_count": 260,
   "metadata": {},
   "outputs": [],
   "source": [
    "X_train, X_test, y_train, y_test = train_test_split(X, y, test_size=0.20, random_state=42)"
   ]
  },
  {
   "cell_type": "markdown",
   "metadata": {},
   "source": [
    "## Data transformation"
   ]
  },
  {
   "cell_type": "code",
   "execution_count": 240,
   "metadata": {},
   "outputs": [],
   "source": [
    "#transformer = StandardScaler()\n",
    "#transformer.fit(X_train)\n",
    "\n",
    "# saving in a pickle\n",
    "#with open('std_transformer.pickle', 'wb') as file:\n",
    "    #pickle.dump(transformer, file)\n",
    "    \n",
    "# loading from a pickle  \n",
    "#with open('std_transformer.pickle', 'rb') as file:\n",
    "    #loaded_transformer = pickle.load(file)\n",
    "\n",
    "#X_train = loaded_transformer.transform(X_train)\n",
    "#X_test = loaded_transformer.transform(X_test)"
   ]
  },
  {
   "cell_type": "markdown",
   "metadata": {},
   "source": [
    "It does not improve the model"
   ]
  },
  {
   "cell_type": "markdown",
   "metadata": {},
   "source": [
    "## Fit the model"
   ]
  },
  {
   "cell_type": "markdown",
   "metadata": {},
   "source": [
    "RandomForest Regressor without hyperparameters tunning"
   ]
  },
  {
   "cell_type": "code",
   "execution_count": 273,
   "metadata": {},
   "outputs": [
    {
     "name": "stdout",
     "output_type": "stream",
     "text": [
      "0.10202177129776968\n"
     ]
    }
   ],
   "source": [
    "rf = RandomForestRegressor(max_depth=2, random_state=0)\n",
    "rf.fit(X_train, y_train)\n",
    "print(rf.score(X_test, y_test))"
   ]
  },
  {
   "cell_type": "code",
   "execution_count": 274,
   "metadata": {},
   "outputs": [
    {
     "name": "stdout",
     "output_type": "stream",
     "text": [
      "[0.21025714 0.14302505 0.15140786 0.21710601 0.12022528 0.17062121\n",
      " 0.13491726 0.11552797 0.17975827 0.14478637]\n"
     ]
    }
   ],
   "source": [
    "from sklearn.model_selection import cross_val_score\n",
    "rf = RandomForestRegressor(max_depth=2, random_state=0)\n",
    "cross_val_scores = cross_val_score(rf, X_train, y_train, cv=10)\n",
    "print(cross_val_scores)\n",
    "#print(np.mean(cross_val_scores))"
   ]
  },
  {
   "cell_type": "code",
   "execution_count": 275,
   "metadata": {},
   "outputs": [
    {
     "name": "stdout",
     "output_type": "stream",
     "text": [
      "0.2718680010584792\n"
     ]
    }
   ],
   "source": [
    "rf = RandomForestRegressor(random_state=0, max_features='sqrt', min_samples_leaf=1,min_samples_split=2, max_depth=12, n_estimators=500)\n",
    "clf.fit(X_train, y_train)\n",
    "print(clf.score(X_test, y_test))"
   ]
  },
  {
   "cell_type": "code",
   "execution_count": 276,
   "metadata": {},
   "outputs": [],
   "source": [
    "rf.fit(X_train, y_train)\n",
    "y_pred = rf.predict(X_test)"
   ]
  },
  {
   "cell_type": "code",
   "execution_count": 277,
   "metadata": {},
   "outputs": [
    {
     "name": "stdout",
     "output_type": "stream",
     "text": [
      "165.4115817850615\n"
     ]
    }
   ],
   "source": [
    "MSE= mean_squared_error(y_test, y_pred, squared=False)\n",
    "RMSE = math.sqrt(MSE)\n",
    "print(RMSE)"
   ]
  },
  {
   "cell_type": "code",
   "execution_count": 270,
   "metadata": {
    "scrolled": true
   },
   "outputs": [
    {
     "data": {
      "text/plain": [
       "{'max_depth': 20,\n",
       " 'max_features': 'auto',\n",
       " 'min_samples_leaf': 2,\n",
       " 'min_samples_split': 10,\n",
       " 'n_estimators': 400}"
      ]
     },
     "execution_count": 270,
     "metadata": {},
     "output_type": "execute_result"
    }
   ],
   "source": [
    "from sklearn.model_selection import GridSearchCV\n",
    "param_grid = {\n",
    "    'n_estimators': [59, 80, 100, 200, 400],\n",
    "    'min_samples_split': [1,2,4, 5, 10, 15, 20, 30],\n",
    "    #'min_leaf_size': [50, 60, 70],\n",
    "    'min_samples_leaf' : [1, 2, 3, 4, 5, 7, 9],\n",
    "    'max_depth': [8, 12, 14, 16, 18, 20],\n",
    "    'max_features': ['sqrt', 'auto', 'log2']\n",
    "#    'max_samples' : ['None', 0.5]\n",
    "    }\n",
    "clf = RandomForestRegressor(random_state=100)\n",
    "\n",
    "grid_search = GridSearchCV(clf, param_grid, cv=5,return_train_score=True,n_jobs=-1)\n",
    "grid_search.fit(X_train,y_train)\n",
    "grid_search.best_params_ #To check the best set of parameters returned\n"
   ]
  },
  {
   "cell_type": "code",
   "execution_count": 279,
   "metadata": {},
   "outputs": [
    {
     "name": "stdout",
     "output_type": "stream",
     "text": [
      "0.2718680010584792\n"
     ]
    }
   ],
   "source": [
    "rf1 = RandomForestRegressor(random_state=0, max_features='auto', min_samples_leaf=2, min_samples_split=10, max_depth=20, n_estimators=400)\n",
    "rf1.fit(X_train, y_train)\n",
    "print(clf.score(X_test, y_test))"
   ]
  },
  {
   "cell_type": "code",
   "execution_count": 280,
   "metadata": {},
   "outputs": [],
   "source": [
    "rf.fit(X_train, y_train)\n",
    "y_pred = rf.predict(X_test)"
   ]
  },
  {
   "cell_type": "code",
   "execution_count": 281,
   "metadata": {},
   "outputs": [
    {
     "name": "stdout",
     "output_type": "stream",
     "text": [
      "166.40748615391155\n"
     ]
    }
   ],
   "source": [
    "MSE= mean_squared_error(y_test, y_pred, squared=False)\n",
    "RMSE = math.sqrt(MSE)\n",
    "print(RMSE)"
   ]
  },
  {
   "cell_type": "markdown",
   "metadata": {},
   "source": [
    "##### Get Dummies encoding"
   ]
  },
  {
   "cell_type": "code",
   "execution_count": 305,
   "metadata": {},
   "outputs": [],
   "source": [
    "X2 = data.drop('salary_avg', axis=1)\n",
    "y2 = data['salary_avg']"
   ]
  },
  {
   "cell_type": "code",
   "execution_count": 306,
   "metadata": {},
   "outputs": [],
   "source": [
    "X2 = pd.get_dummies(X2)"
   ]
  },
  {
   "cell_type": "code",
   "execution_count": 307,
   "metadata": {},
   "outputs": [],
   "source": [
    "X2_train, X2_test, y2_train, y2_test = train_test_split(X2, y2, test_size=0.20, random_state=42)"
   ]
  },
  {
   "cell_type": "code",
   "execution_count": 308,
   "metadata": {
    "scrolled": true
   },
   "outputs": [
    {
     "name": "stdout",
     "output_type": "stream",
     "text": [
      "0.09696672147341523\n"
     ]
    }
   ],
   "source": [
    "rf = RandomForestRegressor(max_depth=2, random_state=0)\n",
    "rf.fit(X2_train, y2_train)\n",
    "print(rf.score(X2_test, y2_test))"
   ]
  },
  {
   "cell_type": "code",
   "execution_count": 309,
   "metadata": {},
   "outputs": [],
   "source": [
    "rf.fit(X2_train, y2_train)\n",
    "y2_pred = rf.predict(X2_test)"
   ]
  },
  {
   "cell_type": "code",
   "execution_count": 310,
   "metadata": {},
   "outputs": [
    {
     "name": "stdout",
     "output_type": "stream",
     "text": [
      "176.7286441305606\n"
     ]
    }
   ],
   "source": [
    "from sklearn.metrics import mean_squared_error\n",
    "MSE= mean_squared_error(y2_test, y2_pred, squared=False)\n",
    "import math\n",
    "RMSE = math.sqrt(MSE)\n",
    "print(RMSE)"
   ]
  },
  {
   "cell_type": "code",
   "execution_count": 323,
   "metadata": {},
   "outputs": [
    {
     "name": "stdout",
     "output_type": "stream",
     "text": [
      "0.3297252994104225\n"
     ]
    }
   ],
   "source": [
    "rf= RandomForestRegressor(random_state=0, max_features='auto', min_samples_leaf=2, min_samples_split=10, max_depth=20, n_estimators=400)\n",
    "rf.fit(X2_train, y2_train)\n",
    "print(rf.score(X2_test, y2_test))"
   ]
  },
  {
   "cell_type": "code",
   "execution_count": 325,
   "metadata": {},
   "outputs": [],
   "source": [
    "rf.fit(X2_train, y2_train)\n",
    "y2_pred = rf.predict(X2_test)"
   ]
  },
  {
   "cell_type": "code",
   "execution_count": 326,
   "metadata": {},
   "outputs": [
    {
     "name": "stdout",
     "output_type": "stream",
     "text": [
      "164.03790480705223\n"
     ]
    }
   ],
   "source": [
    "from sklearn.metrics import mean_squared_error\n",
    "MSE= mean_squared_error(y2_test, y2_pred, squared=False)\n",
    "import math\n",
    "RMSE = math.sqrt(MSE)\n",
    "print(RMSE)"
   ]
  },
  {
   "cell_type": "markdown",
   "metadata": {},
   "source": [
    "It performs better than ordinal encoding"
   ]
  },
  {
   "cell_type": "markdown",
   "metadata": {},
   "source": [
    "#### Ordinal encoding with mapping"
   ]
  },
  {
   "cell_type": "markdown",
   "metadata": {},
   "source": [
    "I will try mapping the categorical taking into consideration the weights of each variable"
   ]
  },
  {
   "cell_type": "code",
   "execution_count": 316,
   "metadata": {},
   "outputs": [],
   "source": [
    "ordinal_cols_mapping = [{\n",
    "    \"col\": \"age\",\n",
    "    \"mapping\": {\n",
    "        '18-21': 0,\n",
    "        '22-24': 1,\n",
    "        '25-29': 2,\n",
    "        '30-34': 3,\n",
    "        '35-39': 4,\n",
    "        '40-44': 5,\n",
    "        '45-49': 6,\n",
    "        '50-54': 7,\n",
    "        '55-59': 8,   \n",
    "    }}, {\n",
    "    \"col\": \"gender\",\n",
    "    \"mapping\": {\n",
    "        'Man': 0,\n",
    "        'Woman': 1,\n",
    "        'Other': 2\n",
    "    }}, {        \n",
    "    \"col\": \"education\",\n",
    "    \"mapping\": {\n",
    "        'High school': 0,\n",
    "        'Some college': 1,\n",
    "        'Bachelor’s degree': 2,\n",
    "        'Master’s degree': 3,\n",
    "        'Doctoral degree': 4,\n",
    "        'Professional doctorate': 5\n",
    "    }}, {\n",
    "    \"col\": \"experience_prog\",\n",
    "    \"mapping\": {\n",
    "        '< 1 years':0, \n",
    "        '1-3 years':1,\n",
    "        '3-5 years':2,\n",
    "        '5-10 years':3,\n",
    "        '10-20 years':4,\n",
    "        '20+ years':5 \n",
    "    }}, {\n",
    "    \"col\": \"experience_ml\",\n",
    "    \"mapping\": {\n",
    "        'Under 1 year':0, \n",
    "        '1-2 years':1,\n",
    "        '2-3 years':2,\n",
    "        '3-4 years':3,\n",
    "        '4-5 years':4,\n",
    "        '5-10 years':5,\n",
    "        '10-20 years':6,\n",
    "        '20 or more years':7\n",
    "    }}, {\n",
    "    \"col\": \"company_size_g\",\n",
    "    \"mapping\": {\n",
    "        'Small':0, \n",
    "        'Medium':1,\n",
    "        'Large':2\n",
    "    }}, {\n",
    "    \"col\": \"industry\",\n",
    "    \"mapping\": {\n",
    "        'Computers/Technology': 0,\n",
    "        'Academics/Education': 1,\n",
    "        'Accounting/Finance': 2,\n",
    "        'Other': 3,\n",
    "        'Medical/Pharmaceutical': 4,\n",
    "        'Manufacturing/Fabrication': 5,\n",
    "        'Government/Public Service': 6,\n",
    "        'Online Service/Internet-based Services': 7,\n",
    "        'Energy/Mining': 8,\n",
    "        'Retail/Sales': 9,\n",
    "        'Insurance/Risk Assessment': 10,\n",
    "        'Broadcasting/Communications': 11,\n",
    "        'Shipping/Transportation': 12,\n",
    "        'Marketing/CRM': 13,\n",
    "        'Online Business/Internet-based Sales': 14,\n",
    "        'Military/Security/Defense': 15,\n",
    "        'Non-profit/Service': 16,\n",
    "        'Hospitality/Entertainment/Sports': 17\n",
    "       \n",
    "    }}, {\n",
    "    \"col\": \"country\",\n",
    "    \"mapping\": {\n",
    "        'Russia': 0,\n",
    "        'UK': 1,\n",
    "        'Spain': 2,\n",
    "        'Germany': 3,\n",
    "        'France': 4,\n",
    "        'Italy': 5,\n",
    "        'Poland': 6,\n",
    "        'Netherlands': 7,\n",
    "        'Ukraine': 8,\n",
    "        'Portugal': 9,\n",
    "        'Greece': 10,\n",
    "        'Ireland': 11,\n",
    "        'Sweden': 12,\n",
    "        'Switzerland': 13,\n",
    "        'Belgium': 14,\n",
    "        'Romania': 15,\n",
    "        'Czech Republic': 16,\n",
    "        'Denmark': 17,\n",
    "        'Austria': 18,\n",
    "        'Belarus': 19\n",
    "    }}, {\n",
    "    \"col\": \"role_group\",\n",
    "    \"mapping\": {\n",
    "        'Data Scientist':0, \n",
    "        'Data Engineer':1,\n",
    "        'Data Analyst':2,\n",
    "        'Other': 3\n",
    "    }}, {\n",
    "    \"col\": \"team_size_g\",\n",
    "    \"mapping\": {\n",
    "        'Small':0, \n",
    "        'Medium':1,\n",
    "        'Large':2,\n",
    "        'No team': 3\n",
    "    }}\n",
    "]"
   ]
  },
  {
   "cell_type": "code",
   "execution_count": 317,
   "metadata": {},
   "outputs": [],
   "source": [
    "import category_encoders as ce\n",
    "encoder = ce.OrdinalEncoder(mapping = ordinal_cols_mapping, \n",
    "                             return_df = True)"
   ]
  },
  {
   "cell_type": "code",
   "execution_count": 318,
   "metadata": {},
   "outputs": [],
   "source": [
    "X3 = data.drop('salary_avg', axis=1)\n",
    "y3 = data['salary_avg']"
   ]
  },
  {
   "cell_type": "code",
   "execution_count": 319,
   "metadata": {},
   "outputs": [],
   "source": [
    "X3 = encoder.fit_transform(X3)"
   ]
  },
  {
   "cell_type": "code",
   "execution_count": 320,
   "metadata": {},
   "outputs": [],
   "source": [
    "X3_train, X3_test, y3_train, y3_test = train_test_split(X3, y3, test_size=0.20, random_state=42)"
   ]
  },
  {
   "cell_type": "code",
   "execution_count": 322,
   "metadata": {},
   "outputs": [
    {
     "name": "stdout",
     "output_type": "stream",
     "text": [
      "0.12301509860603876\n"
     ]
    }
   ],
   "source": [
    "rf1 = RandomForestRegressor(max_depth=2, random_state=0)\n",
    "rf1.fit(X3_train, y3_train)\n",
    "print(rf1.score(X3_test, y3_test))"
   ]
  },
  {
   "cell_type": "code",
   "execution_count": 327,
   "metadata": {},
   "outputs": [],
   "source": [
    "rf.fit(X3_train, y3_train)\n",
    "y3_pred = rf.predict(X3_test)"
   ]
  },
  {
   "cell_type": "code",
   "execution_count": 328,
   "metadata": {
    "scrolled": true
   },
   "outputs": [
    {
     "name": "stdout",
     "output_type": "stream",
     "text": [
      "167.07083746126747\n"
     ]
    }
   ],
   "source": [
    "from sklearn.metrics import mean_squared_error\n",
    "MSE= mean_squared_error(y3_test, y3_pred, squared=False)\n",
    "import math\n",
    "RMSE = math.sqrt(MSE)\n",
    "print(RMSE)"
   ]
  },
  {
   "cell_type": "code",
   "execution_count": 329,
   "metadata": {},
   "outputs": [
    {
     "name": "stdout",
     "output_type": "stream",
     "text": [
      "0.27876204835984897\n"
     ]
    }
   ],
   "source": [
    "rf= RandomForestRegressor(random_state=0, max_features='auto', min_samples_leaf=2, min_samples_split=10, max_depth=20, n_estimators=400)\n",
    "rf.fit(X3_train, y3_train)\n",
    "print(rf.score(X3_test, y3_test))"
   ]
  },
  {
   "cell_type": "code",
   "execution_count": 330,
   "metadata": {},
   "outputs": [],
   "source": [
    "rf.fit(X3_train, y3_train)\n",
    "y3_pred = rf.predict(X3_test)"
   ]
  },
  {
   "cell_type": "code",
   "execution_count": 331,
   "metadata": {},
   "outputs": [
    {
     "name": "stdout",
     "output_type": "stream",
     "text": [
      "167.07083746126747\n"
     ]
    }
   ],
   "source": [
    "from sklearn.metrics import mean_squared_error\n",
    "MSE= mean_squared_error(y3_test, y3_pred, squared=False)\n",
    "import math\n",
    "RMSE = math.sqrt(MSE)\n",
    "print(RMSE)"
   ]
  },
  {
   "cell_type": "code",
   "execution_count": 332,
   "metadata": {},
   "outputs": [
    {
     "data": {
      "text/html": [
       "<div>\n",
       "<style scoped>\n",
       "    .dataframe tbody tr th:only-of-type {\n",
       "        vertical-align: middle;\n",
       "    }\n",
       "\n",
       "    .dataframe tbody tr th {\n",
       "        vertical-align: top;\n",
       "    }\n",
       "\n",
       "    .dataframe thead th {\n",
       "        text-align: right;\n",
       "    }\n",
       "</style>\n",
       "<table border=\"1\" class=\"dataframe\">\n",
       "  <thead>\n",
       "    <tr style=\"text-align: right;\">\n",
       "      <th></th>\n",
       "      <th>columns_name</th>\n",
       "      <th>score_feature_importance</th>\n",
       "    </tr>\n",
       "  </thead>\n",
       "  <tbody>\n",
       "    <tr>\n",
       "      <th>2</th>\n",
       "      <td>country</td>\n",
       "      <td>0.248365</td>\n",
       "    </tr>\n",
       "    <tr>\n",
       "      <th>6</th>\n",
       "      <td>experience_ml</td>\n",
       "      <td>0.179692</td>\n",
       "    </tr>\n",
       "    <tr>\n",
       "      <th>0</th>\n",
       "      <td>age</td>\n",
       "      <td>0.129677</td>\n",
       "    </tr>\n",
       "    <tr>\n",
       "      <th>4</th>\n",
       "      <td>experience_prog</td>\n",
       "      <td>0.113853</td>\n",
       "    </tr>\n",
       "    <tr>\n",
       "      <th>7</th>\n",
       "      <td>industry</td>\n",
       "      <td>0.099110</td>\n",
       "    </tr>\n",
       "    <tr>\n",
       "      <th>9</th>\n",
       "      <td>team_size_g</td>\n",
       "      <td>0.050316</td>\n",
       "    </tr>\n",
       "    <tr>\n",
       "      <th>8</th>\n",
       "      <td>company_size_g</td>\n",
       "      <td>0.048785</td>\n",
       "    </tr>\n",
       "    <tr>\n",
       "      <th>10</th>\n",
       "      <td>role_group</td>\n",
       "      <td>0.048519</td>\n",
       "    </tr>\n",
       "    <tr>\n",
       "      <th>3</th>\n",
       "      <td>education</td>\n",
       "      <td>0.036549</td>\n",
       "    </tr>\n",
       "    <tr>\n",
       "      <th>5</th>\n",
       "      <td>programming_lang_c</td>\n",
       "      <td>0.032763</td>\n",
       "    </tr>\n",
       "    <tr>\n",
       "      <th>1</th>\n",
       "      <td>gender</td>\n",
       "      <td>0.012372</td>\n",
       "    </tr>\n",
       "  </tbody>\n",
       "</table>\n",
       "</div>"
      ],
      "text/plain": [
       "          columns_name  score_feature_importance\n",
       "2              country                  0.248365\n",
       "6        experience_ml                  0.179692\n",
       "0                  age                  0.129677\n",
       "4      experience_prog                  0.113853\n",
       "7             industry                  0.099110\n",
       "9          team_size_g                  0.050316\n",
       "8       company_size_g                  0.048785\n",
       "10          role_group                  0.048519\n",
       "3            education                  0.036549\n",
       "5   programming_lang_c                  0.032763\n",
       "1               gender                  0.012372"
      ]
     },
     "execution_count": 332,
     "metadata": {},
     "output_type": "execute_result"
    }
   ],
   "source": [
    "import numpy as np\n",
    "clf.fit(X3_train, y3_train)\n",
    "X3_train.head()\n",
    "feature_names = X3_train.columns\n",
    "feature_names = list(feature_names)\n",
    "\n",
    "df_fs = pd.DataFrame(list(zip(feature_names, clf.feature_importances_)))\n",
    "df_fs.columns = ['columns_name', 'score_feature_importance']\n",
    "df_fs.sort_values(by=['score_feature_importance'], ascending = False)"
   ]
  },
  {
   "cell_type": "markdown",
   "metadata": {},
   "source": [
    "It's interesting to see that gender is not an important feature to predict the salary"
   ]
  },
  {
   "cell_type": "code",
   "execution_count": null,
   "metadata": {},
   "outputs": [],
   "source": []
  }
 ],
 "metadata": {
  "kernelspec": {
   "display_name": "Python 3",
   "language": "python",
   "name": "python3"
  },
  "language_info": {
   "codemirror_mode": {
    "name": "ipython",
    "version": 3
   },
   "file_extension": ".py",
   "mimetype": "text/x-python",
   "name": "python",
   "nbconvert_exporter": "python",
   "pygments_lexer": "ipython3",
   "version": "3.8.5"
  },
  "toc": {
   "base_numbering": 1,
   "nav_menu": {},
   "number_sections": true,
   "sideBar": true,
   "skip_h1_title": false,
   "title_cell": "Table of Contents",
   "title_sidebar": "Contents",
   "toc_cell": true,
   "toc_position": {},
   "toc_section_display": true,
   "toc_window_display": false
  }
 },
 "nbformat": 4,
 "nbformat_minor": 4
}
