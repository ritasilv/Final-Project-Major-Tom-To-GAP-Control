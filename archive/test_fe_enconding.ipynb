{
 "cells": [
  {
   "cell_type": "markdown",
   "metadata": {
    "toc": true
   },
   "source": [
    "<h1>Table of Contents<span class=\"tocSkip\"></span></h1>\n",
    "<div class=\"toc\"><ul class=\"toc-item\"></ul></div>"
   ]
  },
  {
   "cell_type": "code",
   "execution_count": 22,
   "metadata": {},
   "outputs": [],
   "source": [
    "import pandas as pd\n",
    "import numpy as np\n",
    "import warnings\n",
    "warnings.filterwarnings('ignore')\n",
    "import geopandas as gpd\n",
    "import matplotlib.pyplot as plt\n",
    "import seaborn as sns\n",
    "import scipy.stats as stats\n",
    "import os\n",
    "import plotly.express as px\n",
    "from scipy.stats import chi2_contingency\n",
    "from sklearn.metrics import r2_score, mean_squared_error\n",
    "from sklearn.model_selection import train_test_split\n",
    "from sklearn.preprocessing import StandardScaler\n",
    "from sklearn.ensemble import RandomForestRegressor\n",
    "from sklearn.linear_model import LinearRegression\n",
    "from sklearn.model_selection import cross_val_score\n",
    "import pickle\n",
    "from sklearn.preprocessing import PolynomialFeatures"
   ]
  },
  {
   "cell_type": "code",
   "execution_count": 23,
   "metadata": {},
   "outputs": [],
   "source": [
    "data = pd.read_csv('data_clean_v1.csv')"
   ]
  },
  {
   "cell_type": "code",
   "execution_count": 24,
   "metadata": {},
   "outputs": [
    {
     "data": {
      "text/html": [
       "<div>\n",
       "<style scoped>\n",
       "    .dataframe tbody tr th:only-of-type {\n",
       "        vertical-align: middle;\n",
       "    }\n",
       "\n",
       "    .dataframe tbody tr th {\n",
       "        vertical-align: top;\n",
       "    }\n",
       "\n",
       "    .dataframe thead th {\n",
       "        text-align: right;\n",
       "    }\n",
       "</style>\n",
       "<table border=\"1\" class=\"dataframe\">\n",
       "  <thead>\n",
       "    <tr style=\"text-align: right;\">\n",
       "      <th></th>\n",
       "      <th>Unnamed: 0</th>\n",
       "      <th>age</th>\n",
       "      <th>gender</th>\n",
       "      <th>country</th>\n",
       "      <th>education</th>\n",
       "      <th>role</th>\n",
       "      <th>experience_prog</th>\n",
       "      <th>programming_lang_c</th>\n",
       "      <th>experience_ml</th>\n",
       "      <th>industry</th>\n",
       "      <th>company_size</th>\n",
       "      <th>team_size</th>\n",
       "      <th>salary</th>\n",
       "      <th>country_group</th>\n",
       "      <th>company_size_g</th>\n",
       "      <th>team_size_g</th>\n",
       "      <th>salary_avg</th>\n",
       "      <th>salary_group</th>\n",
       "      <th>role_group</th>\n",
       "    </tr>\n",
       "  </thead>\n",
       "  <tbody>\n",
       "    <tr>\n",
       "      <th>0</th>\n",
       "      <td>1</td>\n",
       "      <td>50-54</td>\n",
       "      <td>Man</td>\n",
       "      <td>India</td>\n",
       "      <td>Bachelor’s degree</td>\n",
       "      <td>Other</td>\n",
       "      <td>5-10 years</td>\n",
       "      <td>2</td>\n",
       "      <td>5-10 years</td>\n",
       "      <td>Manufacturing/Fabrication</td>\n",
       "      <td>50-249 employees</td>\n",
       "      <td>3-4</td>\n",
       "      <td>25000-29999</td>\n",
       "      <td>India</td>\n",
       "      <td>Medium</td>\n",
       "      <td>Small</td>\n",
       "      <td>27500.0</td>\n",
       "      <td>between 10k and 30k</td>\n",
       "      <td>Other</td>\n",
       "    </tr>\n",
       "    <tr>\n",
       "      <th>1</th>\n",
       "      <td>2</td>\n",
       "      <td>50-54</td>\n",
       "      <td>Man</td>\n",
       "      <td>Indonesia</td>\n",
       "      <td>Master’s degree</td>\n",
       "      <td>Program/Project Manager</td>\n",
       "      <td>20+ years</td>\n",
       "      <td>4</td>\n",
       "      <td>Under 1 year</td>\n",
       "      <td>Manufacturing/Fabrication</td>\n",
       "      <td>1000-9,999 employees</td>\n",
       "      <td>1-2</td>\n",
       "      <td>60000-69999</td>\n",
       "      <td>Other</td>\n",
       "      <td>Large</td>\n",
       "      <td>Small</td>\n",
       "      <td>65000.0</td>\n",
       "      <td>between 50k and 80k</td>\n",
       "      <td>Data Analyst</td>\n",
       "    </tr>\n",
       "    <tr>\n",
       "      <th>2</th>\n",
       "      <td>3</td>\n",
       "      <td>22-24</td>\n",
       "      <td>Man</td>\n",
       "      <td>Pakistan</td>\n",
       "      <td>Master’s degree</td>\n",
       "      <td>Software Engineer</td>\n",
       "      <td>1-3 years</td>\n",
       "      <td>3</td>\n",
       "      <td>No experience</td>\n",
       "      <td>Academics/Education</td>\n",
       "      <td>1000-9,999 employees</td>\n",
       "      <td>0</td>\n",
       "      <td>0-999</td>\n",
       "      <td>Other</td>\n",
       "      <td>Large</td>\n",
       "      <td>No team</td>\n",
       "      <td>500.0</td>\n",
       "      <td>less than 10k</td>\n",
       "      <td>Data Engineer</td>\n",
       "    </tr>\n",
       "    <tr>\n",
       "      <th>3</th>\n",
       "      <td>4</td>\n",
       "      <td>45-49</td>\n",
       "      <td>Man</td>\n",
       "      <td>Mexico</td>\n",
       "      <td>Doctoral degree</td>\n",
       "      <td>Research Scientist</td>\n",
       "      <td>20+ years</td>\n",
       "      <td>1</td>\n",
       "      <td>5-10 years</td>\n",
       "      <td>Academics/Education</td>\n",
       "      <td>1000-9,999 employees</td>\n",
       "      <td>0</td>\n",
       "      <td>30000-39999</td>\n",
       "      <td>Other</td>\n",
       "      <td>Large</td>\n",
       "      <td>No team</td>\n",
       "      <td>35000.0</td>\n",
       "      <td>between 30k and 50k</td>\n",
       "      <td>Data Scientist</td>\n",
       "    </tr>\n",
       "    <tr>\n",
       "      <th>4</th>\n",
       "      <td>5</td>\n",
       "      <td>45-49</td>\n",
       "      <td>Man</td>\n",
       "      <td>India</td>\n",
       "      <td>Doctoral degree</td>\n",
       "      <td>Other</td>\n",
       "      <td>&lt; 1 years</td>\n",
       "      <td>3</td>\n",
       "      <td>10-20 years</td>\n",
       "      <td>Academics/Education</td>\n",
       "      <td>50-249 employees</td>\n",
       "      <td>5-9</td>\n",
       "      <td>30000-39999</td>\n",
       "      <td>India</td>\n",
       "      <td>Medium</td>\n",
       "      <td>Small</td>\n",
       "      <td>35000.0</td>\n",
       "      <td>between 30k and 50k</td>\n",
       "      <td>Other</td>\n",
       "    </tr>\n",
       "  </tbody>\n",
       "</table>\n",
       "</div>"
      ],
      "text/plain": [
       "   Unnamed: 0    age gender    country          education  \\\n",
       "0           1  50-54    Man      India  Bachelor’s degree   \n",
       "1           2  50-54    Man  Indonesia    Master’s degree   \n",
       "2           3  22-24    Man   Pakistan    Master’s degree   \n",
       "3           4  45-49    Man     Mexico    Doctoral degree   \n",
       "4           5  45-49    Man      India    Doctoral degree   \n",
       "\n",
       "                      role experience_prog  programming_lang_c  experience_ml  \\\n",
       "0                    Other      5-10 years                   2     5-10 years   \n",
       "1  Program/Project Manager       20+ years                   4   Under 1 year   \n",
       "2        Software Engineer       1-3 years                   3  No experience   \n",
       "3       Research Scientist       20+ years                   1     5-10 years   \n",
       "4                    Other       < 1 years                   3    10-20 years   \n",
       "\n",
       "                    industry          company_size team_size       salary  \\\n",
       "0  Manufacturing/Fabrication      50-249 employees       3-4  25000-29999   \n",
       "1  Manufacturing/Fabrication  1000-9,999 employees       1-2  60000-69999   \n",
       "2        Academics/Education  1000-9,999 employees         0        0-999   \n",
       "3        Academics/Education  1000-9,999 employees         0  30000-39999   \n",
       "4        Academics/Education      50-249 employees       5-9  30000-39999   \n",
       "\n",
       "  country_group company_size_g team_size_g  salary_avg         salary_group  \\\n",
       "0         India         Medium       Small     27500.0  between 10k and 30k   \n",
       "1         Other          Large       Small     65000.0  between 50k and 80k   \n",
       "2         Other          Large     No team       500.0        less than 10k   \n",
       "3         Other          Large     No team     35000.0  between 30k and 50k   \n",
       "4         India         Medium       Small     35000.0  between 30k and 50k   \n",
       "\n",
       "       role_group  \n",
       "0           Other  \n",
       "1    Data Analyst  \n",
       "2   Data Engineer  \n",
       "3  Data Scientist  \n",
       "4           Other  "
      ]
     },
     "execution_count": 24,
     "metadata": {},
     "output_type": "execute_result"
    }
   ],
   "source": [
    "data.head()"
   ]
  },
  {
   "cell_type": "code",
   "execution_count": 25,
   "metadata": {},
   "outputs": [],
   "source": [
    "data = data.drop(['Unnamed: 0'], axis=1)"
   ]
  },
  {
   "cell_type": "code",
   "execution_count": 57,
   "metadata": {},
   "outputs": [],
   "source": [
    "data_all = data[data['country_group'] != 'Other']"
   ]
  },
  {
   "cell_type": "code",
   "execution_count": 58,
   "metadata": {},
   "outputs": [
    {
     "data": {
      "text/plain": [
       "(7727, 18)"
      ]
     },
     "execution_count": 58,
     "metadata": {},
     "output_type": "execute_result"
    }
   ],
   "source": [
    "data_all.shape"
   ]
  },
  {
   "cell_type": "code",
   "execution_count": 59,
   "metadata": {},
   "outputs": [],
   "source": [
    "def boxcox_transform(data, skip_columns=[]):\n",
    "    numeric_cols = data.select_dtypes(np.number).columns\n",
    "    _ci = {column: None for column in numeric_cols}\n",
    "    for column in numeric_cols:\n",
    "        if column not in skip_columns:\n",
    "# since i know any columns should take negative numbers, to avoid -inf in df\n",
    "            data[column] = np.where(data[column]<=0, np.NAN, data[column]) \n",
    "            data[column] = data[column].fillna(data[column].mean())\n",
    "            transformed_data, ci = stats.boxcox(data[column])\n",
    "            data[column] = transformed_data\n",
    "            _ci[column] = [ci] \n",
    "    return data, _ci"
   ]
  },
  {
   "cell_type": "code",
   "execution_count": 28,
   "metadata": {},
   "outputs": [
    {
     "data": {
      "text/html": [
       "<div>\n",
       "<style scoped>\n",
       "    .dataframe tbody tr th:only-of-type {\n",
       "        vertical-align: middle;\n",
       "    }\n",
       "\n",
       "    .dataframe tbody tr th {\n",
       "        vertical-align: top;\n",
       "    }\n",
       "\n",
       "    .dataframe thead th {\n",
       "        text-align: right;\n",
       "    }\n",
       "</style>\n",
       "<table border=\"1\" class=\"dataframe\">\n",
       "  <thead>\n",
       "    <tr style=\"text-align: right;\">\n",
       "      <th></th>\n",
       "      <th>age</th>\n",
       "      <th>gender</th>\n",
       "      <th>country</th>\n",
       "      <th>education</th>\n",
       "      <th>role</th>\n",
       "      <th>experience_prog</th>\n",
       "      <th>programming_lang_c</th>\n",
       "      <th>experience_ml</th>\n",
       "      <th>industry</th>\n",
       "      <th>company_size</th>\n",
       "      <th>team_size</th>\n",
       "      <th>salary</th>\n",
       "      <th>country_group</th>\n",
       "      <th>company_size_g</th>\n",
       "      <th>team_size_g</th>\n",
       "      <th>salary_avg</th>\n",
       "      <th>salary_group</th>\n",
       "      <th>role_group</th>\n",
       "    </tr>\n",
       "  </thead>\n",
       "  <tbody>\n",
       "    <tr>\n",
       "      <th>10</th>\n",
       "      <td>35-39</td>\n",
       "      <td>Man</td>\n",
       "      <td>Greece</td>\n",
       "      <td>Doctoral degree</td>\n",
       "      <td>Research Scientist</td>\n",
       "      <td>10-20 years</td>\n",
       "      <td>4</td>\n",
       "      <td>4-5 years</td>\n",
       "      <td>Academics/Education</td>\n",
       "      <td>50-249 employees</td>\n",
       "      <td>5-9</td>\n",
       "      <td>10000-14999</td>\n",
       "      <td>Europe</td>\n",
       "      <td>Medium</td>\n",
       "      <td>Small</td>\n",
       "      <td>59.037439</td>\n",
       "      <td>between 10k and 30k</td>\n",
       "      <td>Data Scientist</td>\n",
       "    </tr>\n",
       "    <tr>\n",
       "      <th>11</th>\n",
       "      <td>50-54</td>\n",
       "      <td>Man</td>\n",
       "      <td>Belgium</td>\n",
       "      <td>Bachelor’s degree</td>\n",
       "      <td>Data Analyst</td>\n",
       "      <td>20+ years</td>\n",
       "      <td>2</td>\n",
       "      <td>1-2 years</td>\n",
       "      <td>Energy/Mining</td>\n",
       "      <td>1000-9,999 employees</td>\n",
       "      <td>5-9</td>\n",
       "      <td>2000-2999</td>\n",
       "      <td>Europe</td>\n",
       "      <td>Large</td>\n",
       "      <td>Small</td>\n",
       "      <td>34.263258</td>\n",
       "      <td>less than 10k</td>\n",
       "      <td>Data Analyst</td>\n",
       "    </tr>\n",
       "    <tr>\n",
       "      <th>17</th>\n",
       "      <td>25-29</td>\n",
       "      <td>Woman</td>\n",
       "      <td>Poland</td>\n",
       "      <td>Master’s degree</td>\n",
       "      <td>Machine Learning Engineer</td>\n",
       "      <td>3-5 years</td>\n",
       "      <td>2</td>\n",
       "      <td>Under 1 year</td>\n",
       "      <td>Computers/Technology</td>\n",
       "      <td>0-49 employees</td>\n",
       "      <td>3-4</td>\n",
       "      <td>25000-29999</td>\n",
       "      <td>Europe</td>\n",
       "      <td>Small</td>\n",
       "      <td>Small</td>\n",
       "      <td>76.612364</td>\n",
       "      <td>between 10k and 30k</td>\n",
       "      <td>Data Engineer</td>\n",
       "    </tr>\n",
       "    <tr>\n",
       "      <th>24</th>\n",
       "      <td>25-29</td>\n",
       "      <td>Man</td>\n",
       "      <td>Italy</td>\n",
       "      <td>Master’s degree</td>\n",
       "      <td>Other</td>\n",
       "      <td>1-3 years</td>\n",
       "      <td>2</td>\n",
       "      <td>Under 1 year</td>\n",
       "      <td>Energy/Mining</td>\n",
       "      <td>0-49 employees</td>\n",
       "      <td>1-2</td>\n",
       "      <td>30000-39999</td>\n",
       "      <td>Europe</td>\n",
       "      <td>Small</td>\n",
       "      <td>Small</td>\n",
       "      <td>82.921494</td>\n",
       "      <td>between 30k and 50k</td>\n",
       "      <td>Other</td>\n",
       "    </tr>\n",
       "    <tr>\n",
       "      <th>35</th>\n",
       "      <td>35-39</td>\n",
       "      <td>Woman</td>\n",
       "      <td>Russia</td>\n",
       "      <td>I prefer not to answer</td>\n",
       "      <td>Data Scientist</td>\n",
       "      <td>1-3 years</td>\n",
       "      <td>2</td>\n",
       "      <td>No experience</td>\n",
       "      <td>Academics/Education</td>\n",
       "      <td>1000-9,999 employees</td>\n",
       "      <td>3-4</td>\n",
       "      <td>0-999</td>\n",
       "      <td>Europe</td>\n",
       "      <td>Large</td>\n",
       "      <td>Small</td>\n",
       "      <td>19.355640</td>\n",
       "      <td>less than 10k</td>\n",
       "      <td>Data Scientist</td>\n",
       "    </tr>\n",
       "    <tr>\n",
       "      <th>...</th>\n",
       "      <td>...</td>\n",
       "      <td>...</td>\n",
       "      <td>...</td>\n",
       "      <td>...</td>\n",
       "      <td>...</td>\n",
       "      <td>...</td>\n",
       "      <td>...</td>\n",
       "      <td>...</td>\n",
       "      <td>...</td>\n",
       "      <td>...</td>\n",
       "      <td>...</td>\n",
       "      <td>...</td>\n",
       "      <td>...</td>\n",
       "      <td>...</td>\n",
       "      <td>...</td>\n",
       "      <td>...</td>\n",
       "      <td>...</td>\n",
       "      <td>...</td>\n",
       "    </tr>\n",
       "    <tr>\n",
       "      <th>14345</th>\n",
       "      <td>30-34</td>\n",
       "      <td>Man</td>\n",
       "      <td>Portugal</td>\n",
       "      <td>Master’s degree</td>\n",
       "      <td>Data Engineer</td>\n",
       "      <td>10-20 years</td>\n",
       "      <td>4</td>\n",
       "      <td>5-10 years</td>\n",
       "      <td>Manufacturing/Fabrication</td>\n",
       "      <td>1000-9,999 employees</td>\n",
       "      <td>20+</td>\n",
       "      <td>70000-79999</td>\n",
       "      <td>Europe</td>\n",
       "      <td>Large</td>\n",
       "      <td>Large</td>\n",
       "      <td>106.331076</td>\n",
       "      <td>between 50k and 80k</td>\n",
       "      <td>Data Engineer</td>\n",
       "    </tr>\n",
       "    <tr>\n",
       "      <th>14348</th>\n",
       "      <td>25-29</td>\n",
       "      <td>Man</td>\n",
       "      <td>Germany</td>\n",
       "      <td>Master’s degree</td>\n",
       "      <td>Data Scientist</td>\n",
       "      <td>1-3 years</td>\n",
       "      <td>2</td>\n",
       "      <td>1-2 years</td>\n",
       "      <td>Computers/Technology</td>\n",
       "      <td>10,000 or more employees</td>\n",
       "      <td>20+</td>\n",
       "      <td>60000-69999</td>\n",
       "      <td>Europe</td>\n",
       "      <td>Large</td>\n",
       "      <td>Large</td>\n",
       "      <td>101.495874</td>\n",
       "      <td>between 50k and 80k</td>\n",
       "      <td>Data Scientist</td>\n",
       "    </tr>\n",
       "    <tr>\n",
       "      <th>14358</th>\n",
       "      <td>40-44</td>\n",
       "      <td>Man</td>\n",
       "      <td>Russia</td>\n",
       "      <td>I prefer not to answer</td>\n",
       "      <td>Data Engineer</td>\n",
       "      <td>&lt; 1 years</td>\n",
       "      <td>2</td>\n",
       "      <td>Under 1 year</td>\n",
       "      <td>Computers/Technology</td>\n",
       "      <td>10,000 or more employees</td>\n",
       "      <td>20+</td>\n",
       "      <td>0-999</td>\n",
       "      <td>Europe</td>\n",
       "      <td>Large</td>\n",
       "      <td>Large</td>\n",
       "      <td>19.355640</td>\n",
       "      <td>less than 10k</td>\n",
       "      <td>Data Engineer</td>\n",
       "    </tr>\n",
       "    <tr>\n",
       "      <th>14365</th>\n",
       "      <td>35-39</td>\n",
       "      <td>Man</td>\n",
       "      <td>Russia</td>\n",
       "      <td>Bachelor’s degree</td>\n",
       "      <td>Software Engineer</td>\n",
       "      <td>3-5 years</td>\n",
       "      <td>4</td>\n",
       "      <td>No experience</td>\n",
       "      <td>Insurance/Risk Assessment</td>\n",
       "      <td>250-999 employees</td>\n",
       "      <td>10-14</td>\n",
       "      <td>20000-24999</td>\n",
       "      <td>Europe</td>\n",
       "      <td>Large</td>\n",
       "      <td>Medium</td>\n",
       "      <td>71.716456</td>\n",
       "      <td>between 10k and 30k</td>\n",
       "      <td>Data Engineer</td>\n",
       "    </tr>\n",
       "    <tr>\n",
       "      <th>14369</th>\n",
       "      <td>35-39</td>\n",
       "      <td>Man</td>\n",
       "      <td>Italy</td>\n",
       "      <td>Bachelor’s degree</td>\n",
       "      <td>Program/Project Manager</td>\n",
       "      <td>3-5 years</td>\n",
       "      <td>2</td>\n",
       "      <td>1-2 years</td>\n",
       "      <td>Computers/Technology</td>\n",
       "      <td>1000-9,999 employees</td>\n",
       "      <td>1-2</td>\n",
       "      <td>60000-69999</td>\n",
       "      <td>Europe</td>\n",
       "      <td>Large</td>\n",
       "      <td>Small</td>\n",
       "      <td>101.495874</td>\n",
       "      <td>between 50k and 80k</td>\n",
       "      <td>Data Analyst</td>\n",
       "    </tr>\n",
       "  </tbody>\n",
       "</table>\n",
       "<p>2910 rows × 18 columns</p>\n",
       "</div>"
      ],
      "text/plain": [
       "         age gender   country               education  \\\n",
       "10     35-39    Man    Greece         Doctoral degree   \n",
       "11     50-54    Man   Belgium       Bachelor’s degree   \n",
       "17     25-29  Woman    Poland         Master’s degree   \n",
       "24     25-29    Man     Italy         Master’s degree   \n",
       "35     35-39  Woman    Russia  I prefer not to answer   \n",
       "...      ...    ...       ...                     ...   \n",
       "14345  30-34    Man  Portugal         Master’s degree   \n",
       "14348  25-29    Man   Germany         Master’s degree   \n",
       "14358  40-44    Man    Russia  I prefer not to answer   \n",
       "14365  35-39    Man    Russia       Bachelor’s degree   \n",
       "14369  35-39    Man     Italy       Bachelor’s degree   \n",
       "\n",
       "                            role experience_prog  programming_lang_c  \\\n",
       "10            Research Scientist     10-20 years                   4   \n",
       "11                  Data Analyst       20+ years                   2   \n",
       "17     Machine Learning Engineer       3-5 years                   2   \n",
       "24                         Other       1-3 years                   2   \n",
       "35                Data Scientist       1-3 years                   2   \n",
       "...                          ...             ...                 ...   \n",
       "14345              Data Engineer     10-20 years                   4   \n",
       "14348             Data Scientist       1-3 years                   2   \n",
       "14358              Data Engineer       < 1 years                   2   \n",
       "14365          Software Engineer       3-5 years                   4   \n",
       "14369    Program/Project Manager       3-5 years                   2   \n",
       "\n",
       "       experience_ml                   industry              company_size  \\\n",
       "10         4-5 years        Academics/Education          50-249 employees   \n",
       "11         1-2 years              Energy/Mining      1000-9,999 employees   \n",
       "17      Under 1 year       Computers/Technology            0-49 employees   \n",
       "24      Under 1 year              Energy/Mining            0-49 employees   \n",
       "35     No experience        Academics/Education      1000-9,999 employees   \n",
       "...              ...                        ...                       ...   \n",
       "14345     5-10 years  Manufacturing/Fabrication      1000-9,999 employees   \n",
       "14348      1-2 years       Computers/Technology  10,000 or more employees   \n",
       "14358   Under 1 year       Computers/Technology  10,000 or more employees   \n",
       "14365  No experience  Insurance/Risk Assessment         250-999 employees   \n",
       "14369      1-2 years       Computers/Technology      1000-9,999 employees   \n",
       "\n",
       "      team_size       salary country_group company_size_g team_size_g  \\\n",
       "10          5-9  10000-14999        Europe         Medium       Small   \n",
       "11          5-9    2000-2999        Europe          Large       Small   \n",
       "17          3-4  25000-29999        Europe          Small       Small   \n",
       "24          1-2  30000-39999        Europe          Small       Small   \n",
       "35          3-4        0-999        Europe          Large       Small   \n",
       "...         ...          ...           ...            ...         ...   \n",
       "14345       20+  70000-79999        Europe          Large       Large   \n",
       "14348       20+  60000-69999        Europe          Large       Large   \n",
       "14358       20+        0-999        Europe          Large       Large   \n",
       "14365     10-14  20000-24999        Europe          Large      Medium   \n",
       "14369       1-2  60000-69999        Europe          Large       Small   \n",
       "\n",
       "       salary_avg         salary_group      role_group  \n",
       "10      59.037439  between 10k and 30k  Data Scientist  \n",
       "11      34.263258        less than 10k    Data Analyst  \n",
       "17      76.612364  between 10k and 30k   Data Engineer  \n",
       "24      82.921494  between 30k and 50k           Other  \n",
       "35      19.355640        less than 10k  Data Scientist  \n",
       "...           ...                  ...             ...  \n",
       "14345  106.331076  between 50k and 80k   Data Engineer  \n",
       "14348  101.495874  between 50k and 80k  Data Scientist  \n",
       "14358   19.355640        less than 10k   Data Engineer  \n",
       "14365   71.716456  between 10k and 30k   Data Engineer  \n",
       "14369  101.495874  between 50k and 80k    Data Analyst  \n",
       "\n",
       "[2910 rows x 18 columns]"
      ]
     },
     "execution_count": 28,
     "metadata": {},
     "output_type": "execute_result"
    }
   ],
   "source": [
    "data_eu, _ci = boxcox_transform(data_eu, skip_columns = ['programming_lang_c'])\n",
    "data_eu"
   ]
  },
  {
   "cell_type": "code",
   "execution_count": 60,
   "metadata": {},
   "outputs": [
    {
     "data": {
      "text/html": [
       "<div>\n",
       "<style scoped>\n",
       "    .dataframe tbody tr th:only-of-type {\n",
       "        vertical-align: middle;\n",
       "    }\n",
       "\n",
       "    .dataframe tbody tr th {\n",
       "        vertical-align: top;\n",
       "    }\n",
       "\n",
       "    .dataframe thead th {\n",
       "        text-align: right;\n",
       "    }\n",
       "</style>\n",
       "<table border=\"1\" class=\"dataframe\">\n",
       "  <thead>\n",
       "    <tr style=\"text-align: right;\">\n",
       "      <th></th>\n",
       "      <th>age</th>\n",
       "      <th>gender</th>\n",
       "      <th>country</th>\n",
       "      <th>education</th>\n",
       "      <th>role</th>\n",
       "      <th>experience_prog</th>\n",
       "      <th>programming_lang_c</th>\n",
       "      <th>experience_ml</th>\n",
       "      <th>industry</th>\n",
       "      <th>company_size</th>\n",
       "      <th>team_size</th>\n",
       "      <th>salary</th>\n",
       "      <th>country_group</th>\n",
       "      <th>company_size_g</th>\n",
       "      <th>team_size_g</th>\n",
       "      <th>salary_avg</th>\n",
       "      <th>salary_group</th>\n",
       "      <th>role_group</th>\n",
       "    </tr>\n",
       "  </thead>\n",
       "  <tbody>\n",
       "    <tr>\n",
       "      <th>0</th>\n",
       "      <td>50-54</td>\n",
       "      <td>Man</td>\n",
       "      <td>India</td>\n",
       "      <td>Bachelor’s degree</td>\n",
       "      <td>Other</td>\n",
       "      <td>5-10 years</td>\n",
       "      <td>2</td>\n",
       "      <td>5-10 years</td>\n",
       "      <td>Manufacturing/Fabrication</td>\n",
       "      <td>50-249 employees</td>\n",
       "      <td>3-4</td>\n",
       "      <td>25000-29999</td>\n",
       "      <td>India</td>\n",
       "      <td>Medium</td>\n",
       "      <td>Small</td>\n",
       "      <td>24.915032</td>\n",
       "      <td>between 10k and 30k</td>\n",
       "      <td>Other</td>\n",
       "    </tr>\n",
       "    <tr>\n",
       "      <th>4</th>\n",
       "      <td>45-49</td>\n",
       "      <td>Man</td>\n",
       "      <td>India</td>\n",
       "      <td>Doctoral degree</td>\n",
       "      <td>Other</td>\n",
       "      <td>&lt; 1 years</td>\n",
       "      <td>3</td>\n",
       "      <td>10-20 years</td>\n",
       "      <td>Academics/Education</td>\n",
       "      <td>50-249 employees</td>\n",
       "      <td>5-9</td>\n",
       "      <td>30000-39999</td>\n",
       "      <td>India</td>\n",
       "      <td>Medium</td>\n",
       "      <td>Small</td>\n",
       "      <td>26.106034</td>\n",
       "      <td>between 30k and 50k</td>\n",
       "      <td>Other</td>\n",
       "    </tr>\n",
       "    <tr>\n",
       "      <th>5</th>\n",
       "      <td>30-34</td>\n",
       "      <td>Man</td>\n",
       "      <td>India</td>\n",
       "      <td>Bachelor’s degree</td>\n",
       "      <td>Data Scientist</td>\n",
       "      <td>5-10 years</td>\n",
       "      <td>1</td>\n",
       "      <td>2-3 years</td>\n",
       "      <td>Computers/Technology</td>\n",
       "      <td>10,000 or more employees</td>\n",
       "      <td>3-4</td>\n",
       "      <td>15000-19999</td>\n",
       "      <td>India</td>\n",
       "      <td>Large</td>\n",
       "      <td>Small</td>\n",
       "      <td>22.798869</td>\n",
       "      <td>between 10k and 30k</td>\n",
       "      <td>Data Scientist</td>\n",
       "    </tr>\n",
       "    <tr>\n",
       "      <th>10</th>\n",
       "      <td>35-39</td>\n",
       "      <td>Man</td>\n",
       "      <td>Greece</td>\n",
       "      <td>Doctoral degree</td>\n",
       "      <td>Research Scientist</td>\n",
       "      <td>10-20 years</td>\n",
       "      <td>4</td>\n",
       "      <td>4-5 years</td>\n",
       "      <td>Academics/Education</td>\n",
       "      <td>50-249 employees</td>\n",
       "      <td>5-9</td>\n",
       "      <td>10000-14999</td>\n",
       "      <td>Europe</td>\n",
       "      <td>Medium</td>\n",
       "      <td>Small</td>\n",
       "      <td>21.316701</td>\n",
       "      <td>between 10k and 30k</td>\n",
       "      <td>Data Scientist</td>\n",
       "    </tr>\n",
       "    <tr>\n",
       "      <th>11</th>\n",
       "      <td>50-54</td>\n",
       "      <td>Man</td>\n",
       "      <td>Belgium</td>\n",
       "      <td>Bachelor’s degree</td>\n",
       "      <td>Data Analyst</td>\n",
       "      <td>20+ years</td>\n",
       "      <td>2</td>\n",
       "      <td>1-2 years</td>\n",
       "      <td>Energy/Mining</td>\n",
       "      <td>1000-9,999 employees</td>\n",
       "      <td>5-9</td>\n",
       "      <td>2000-2999</td>\n",
       "      <td>Europe</td>\n",
       "      <td>Large</td>\n",
       "      <td>Small</td>\n",
       "      <td>15.201037</td>\n",
       "      <td>less than 10k</td>\n",
       "      <td>Data Analyst</td>\n",
       "    </tr>\n",
       "    <tr>\n",
       "      <th>...</th>\n",
       "      <td>...</td>\n",
       "      <td>...</td>\n",
       "      <td>...</td>\n",
       "      <td>...</td>\n",
       "      <td>...</td>\n",
       "      <td>...</td>\n",
       "      <td>...</td>\n",
       "      <td>...</td>\n",
       "      <td>...</td>\n",
       "      <td>...</td>\n",
       "      <td>...</td>\n",
       "      <td>...</td>\n",
       "      <td>...</td>\n",
       "      <td>...</td>\n",
       "      <td>...</td>\n",
       "      <td>...</td>\n",
       "      <td>...</td>\n",
       "      <td>...</td>\n",
       "    </tr>\n",
       "    <tr>\n",
       "      <th>14367</th>\n",
       "      <td>18-21</td>\n",
       "      <td>Man</td>\n",
       "      <td>India</td>\n",
       "      <td>Bachelor’s degree</td>\n",
       "      <td>Data Analyst</td>\n",
       "      <td>1-3 years</td>\n",
       "      <td>2</td>\n",
       "      <td>Under 1 year</td>\n",
       "      <td>Academics/Education</td>\n",
       "      <td>0-49 employees</td>\n",
       "      <td>0</td>\n",
       "      <td>0-999</td>\n",
       "      <td>India</td>\n",
       "      <td>Small</td>\n",
       "      <td>No team</td>\n",
       "      <td>10.431093</td>\n",
       "      <td>less than 10k</td>\n",
       "      <td>Data Analyst</td>\n",
       "    </tr>\n",
       "    <tr>\n",
       "      <th>14369</th>\n",
       "      <td>35-39</td>\n",
       "      <td>Man</td>\n",
       "      <td>Italy</td>\n",
       "      <td>Bachelor’s degree</td>\n",
       "      <td>Program/Project Manager</td>\n",
       "      <td>3-5 years</td>\n",
       "      <td>2</td>\n",
       "      <td>1-2 years</td>\n",
       "      <td>Computers/Technology</td>\n",
       "      <td>1000-9,999 employees</td>\n",
       "      <td>1-2</td>\n",
       "      <td>60000-69999</td>\n",
       "      <td>Europe</td>\n",
       "      <td>Large</td>\n",
       "      <td>Small</td>\n",
       "      <td>29.374205</td>\n",
       "      <td>between 50k and 80k</td>\n",
       "      <td>Data Analyst</td>\n",
       "    </tr>\n",
       "    <tr>\n",
       "      <th>14370</th>\n",
       "      <td>18-21</td>\n",
       "      <td>Man</td>\n",
       "      <td>India</td>\n",
       "      <td>Bachelor’s degree</td>\n",
       "      <td>Software Engineer</td>\n",
       "      <td>1-3 years</td>\n",
       "      <td>4</td>\n",
       "      <td>Under 1 year</td>\n",
       "      <td>Academics/Education</td>\n",
       "      <td>0-49 employees</td>\n",
       "      <td>1-2</td>\n",
       "      <td>0-999</td>\n",
       "      <td>India</td>\n",
       "      <td>Small</td>\n",
       "      <td>Small</td>\n",
       "      <td>10.431093</td>\n",
       "      <td>less than 10k</td>\n",
       "      <td>Data Engineer</td>\n",
       "    </tr>\n",
       "    <tr>\n",
       "      <th>14371</th>\n",
       "      <td>60-69</td>\n",
       "      <td>Man</td>\n",
       "      <td>USA</td>\n",
       "      <td>Bachelor’s degree</td>\n",
       "      <td>Program/Project Manager</td>\n",
       "      <td>20+ years</td>\n",
       "      <td>2</td>\n",
       "      <td>Under 1 year</td>\n",
       "      <td>Academics/Education</td>\n",
       "      <td>10,000 or more employees</td>\n",
       "      <td>5-9</td>\n",
       "      <td>300000-499999</td>\n",
       "      <td>USA</td>\n",
       "      <td>Large</td>\n",
       "      <td>Small</td>\n",
       "      <td>40.986080</td>\n",
       "      <td>more than 125k</td>\n",
       "      <td>Data Analyst</td>\n",
       "    </tr>\n",
       "    <tr>\n",
       "      <th>14372</th>\n",
       "      <td>30-34</td>\n",
       "      <td>Man</td>\n",
       "      <td>India</td>\n",
       "      <td>Bachelor’s degree</td>\n",
       "      <td>Data Analyst</td>\n",
       "      <td>1-3 years</td>\n",
       "      <td>2</td>\n",
       "      <td>1-2 years</td>\n",
       "      <td>Manufacturing/Fabrication</td>\n",
       "      <td>10,000 or more employees</td>\n",
       "      <td>20+</td>\n",
       "      <td>3000-3999</td>\n",
       "      <td>India</td>\n",
       "      <td>Large</td>\n",
       "      <td>Large</td>\n",
       "      <td>16.357062</td>\n",
       "      <td>less than 10k</td>\n",
       "      <td>Data Analyst</td>\n",
       "    </tr>\n",
       "  </tbody>\n",
       "</table>\n",
       "<p>7727 rows × 18 columns</p>\n",
       "</div>"
      ],
      "text/plain": [
       "         age gender  country          education                     role  \\\n",
       "0      50-54    Man    India  Bachelor’s degree                    Other   \n",
       "4      45-49    Man    India    Doctoral degree                    Other   \n",
       "5      30-34    Man    India  Bachelor’s degree           Data Scientist   \n",
       "10     35-39    Man   Greece    Doctoral degree       Research Scientist   \n",
       "11     50-54    Man  Belgium  Bachelor’s degree             Data Analyst   \n",
       "...      ...    ...      ...                ...                      ...   \n",
       "14367  18-21    Man    India  Bachelor’s degree             Data Analyst   \n",
       "14369  35-39    Man    Italy  Bachelor’s degree  Program/Project Manager   \n",
       "14370  18-21    Man    India  Bachelor’s degree        Software Engineer   \n",
       "14371  60-69    Man      USA  Bachelor’s degree  Program/Project Manager   \n",
       "14372  30-34    Man    India  Bachelor’s degree             Data Analyst   \n",
       "\n",
       "      experience_prog  programming_lang_c experience_ml  \\\n",
       "0          5-10 years                   2    5-10 years   \n",
       "4           < 1 years                   3   10-20 years   \n",
       "5          5-10 years                   1     2-3 years   \n",
       "10        10-20 years                   4     4-5 years   \n",
       "11          20+ years                   2     1-2 years   \n",
       "...               ...                 ...           ...   \n",
       "14367       1-3 years                   2  Under 1 year   \n",
       "14369       3-5 years                   2     1-2 years   \n",
       "14370       1-3 years                   4  Under 1 year   \n",
       "14371       20+ years                   2  Under 1 year   \n",
       "14372       1-3 years                   2     1-2 years   \n",
       "\n",
       "                        industry              company_size team_size  \\\n",
       "0      Manufacturing/Fabrication          50-249 employees       3-4   \n",
       "4            Academics/Education          50-249 employees       5-9   \n",
       "5           Computers/Technology  10,000 or more employees       3-4   \n",
       "10           Academics/Education          50-249 employees       5-9   \n",
       "11                 Energy/Mining      1000-9,999 employees       5-9   \n",
       "...                          ...                       ...       ...   \n",
       "14367        Academics/Education            0-49 employees         0   \n",
       "14369       Computers/Technology      1000-9,999 employees       1-2   \n",
       "14370        Academics/Education            0-49 employees       1-2   \n",
       "14371        Academics/Education  10,000 or more employees       5-9   \n",
       "14372  Manufacturing/Fabrication  10,000 or more employees       20+   \n",
       "\n",
       "              salary country_group company_size_g team_size_g  salary_avg  \\\n",
       "0        25000-29999         India         Medium       Small   24.915032   \n",
       "4        30000-39999         India         Medium       Small   26.106034   \n",
       "5        15000-19999         India          Large       Small   22.798869   \n",
       "10       10000-14999        Europe         Medium       Small   21.316701   \n",
       "11         2000-2999        Europe          Large       Small   15.201037   \n",
       "...              ...           ...            ...         ...         ...   \n",
       "14367          0-999         India          Small     No team   10.431093   \n",
       "14369    60000-69999        Europe          Large       Small   29.374205   \n",
       "14370          0-999         India          Small       Small   10.431093   \n",
       "14371  300000-499999           USA          Large       Small   40.986080   \n",
       "14372      3000-3999         India          Large       Large   16.357062   \n",
       "\n",
       "              salary_group      role_group  \n",
       "0      between 10k and 30k           Other  \n",
       "4      between 30k and 50k           Other  \n",
       "5      between 10k and 30k  Data Scientist  \n",
       "10     between 10k and 30k  Data Scientist  \n",
       "11           less than 10k    Data Analyst  \n",
       "...                    ...             ...  \n",
       "14367        less than 10k    Data Analyst  \n",
       "14369  between 50k and 80k    Data Analyst  \n",
       "14370        less than 10k   Data Engineer  \n",
       "14371       more than 125k    Data Analyst  \n",
       "14372        less than 10k    Data Analyst  \n",
       "\n",
       "[7727 rows x 18 columns]"
      ]
     },
     "execution_count": 60,
     "metadata": {},
     "output_type": "execute_result"
    }
   ],
   "source": [
    "data_all, _ci = boxcox_transform(data_all, skip_columns = ['programming_lang_c'])\n",
    "data_all"
   ]
  },
  {
   "cell_type": "code",
   "execution_count": 61,
   "metadata": {},
   "outputs": [],
   "source": [
    "def remove_outliers(data, threshold=1.5, in_columns=data.select_dtypes(np.number).columns, skip_columns=[]):\n",
    "    for column in in_columns:\n",
    "        if column not in skip_columns:\n",
    "            upper = np.percentile(data[column],75)\n",
    "            lower = np.percentile(data[column],25)\n",
    "            iqr = upper - lower\n",
    "            upper_limit = upper + (threshold * iqr)\n",
    "            lower_limit = lower - (threshold * iqr)\n",
    "            data = data[(data[column]>lower_limit) & (data[column]<upper_limit)]\n",
    "    return data"
   ]
  },
  {
   "cell_type": "code",
   "execution_count": 30,
   "metadata": {},
   "outputs": [],
   "source": [
    "data_eu = remove_outliers(data_eu, threshold=1.5)"
   ]
  },
  {
   "cell_type": "code",
   "execution_count": 62,
   "metadata": {},
   "outputs": [],
   "source": [
    "data_all = remove_outliers(data_all, threshold=1.5)"
   ]
  },
  {
   "cell_type": "code",
   "execution_count": 63,
   "metadata": {},
   "outputs": [],
   "source": [
    "def dist_boxplot_num(data, skip_columns=[]):\n",
    "    for col in data.select_dtypes(np.number):\n",
    "        if col not in skip_columns:\n",
    "            fig, axes = plt.subplots(1, 2, figsize=(15, 5))\n",
    "            sns.distplot(data[col], ax=axes[0])\n",
    "            sns.boxplot(data[col], ax=axes[1])\n",
    "            plt.show()"
   ]
  },
  {
   "cell_type": "code",
   "execution_count": 64,
   "metadata": {},
   "outputs": [
    {
     "data": {
      "image/png": "[encoded data removed]",
      "text/plain": [
       "<Figure size 1080x360 with 2 Axes>"
      ]
     },
     "metadata": {
      "needs_background": "light"
     },
     "output_type": "display_data"
    },
    {
     "data": {
      "image/png": "[encoded data removed]",
      "text/plain": [
       "<Figure size 1080x360 with 2 Axes>"
      ]
     },
     "metadata": {
      "needs_background": "light"
     },
     "output_type": "display_data"
    }
   ],
   "source": [
    "dist_boxplot_num(data_all)"
   ]
  },
  {
   "cell_type": "code",
   "execution_count": 33,
   "metadata": {},
   "outputs": [],
   "source": [
    "data_eu = data_eu.drop(['country_group','company_size', 'salary', 'team_size', 'salary_group','role'], axis=1)"
   ]
  },
  {
   "cell_type": "code",
   "execution_count": 65,
   "metadata": {},
   "outputs": [],
   "source": [
    "data_all = data_all.drop(['country_group','company_size', 'salary', 'team_size', 'salary_group','role'], axis=1)"
   ]
  },
  {
   "cell_type": "code",
   "execution_count": 34,
   "metadata": {},
   "outputs": [],
   "source": [
    "data_eu = data_eu[(data_eu.education != 'I prefer not to answer')]"
   ]
  },
  {
   "cell_type": "code",
   "execution_count": 35,
   "metadata": {},
   "outputs": [],
   "source": [
    "data_eu = data_eu[(data_eu.experience_ml != 'No experience')]"
   ]
  },
  {
   "cell_type": "code",
   "execution_count": 36,
   "metadata": {},
   "outputs": [],
   "source": [
    "data_eu = data_eu[(data_eu.age != '70')]"
   ]
  },
  {
   "cell_type": "code",
   "execution_count": 37,
   "metadata": {},
   "outputs": [],
   "source": [
    "X = data_eu.drop('salary_avg', axis=1)\n",
    "y = data_eu['salary_avg']"
   ]
  },
  {
   "cell_type": "code",
   "execution_count": 66,
   "metadata": {},
   "outputs": [],
   "source": [
    "X = data_all.drop('salary_avg', axis=1)\n",
    "y = data_all['salary_avg']"
   ]
  },
  {
   "cell_type": "code",
   "execution_count": 38,
   "metadata": {},
   "outputs": [],
   "source": [
    "ordinal_cols_mapping = [{\n",
    "    \"col\": \"age\",\n",
    "    \"mapping\": {\n",
    "        '18-21': 0,\n",
    "        '22-24': 1,\n",
    "        '25-29': 2,\n",
    "        '30-34': 3,\n",
    "        '35-39': 4,\n",
    "        '40-44': 5,\n",
    "        '45-49': 6,\n",
    "        '50-54': 7,\n",
    "        '55-59': 8,\n",
    "        '60-69': 9    \n",
    "    }}, {\n",
    "    \"col\": \"gender\",\n",
    "    \"mapping\": {\n",
    "        'Man': 0,\n",
    "        'Woman': 1,\n",
    "        'Other': 2\n",
    "    }}, {        \n",
    "    \"col\": \"education\",\n",
    "    \"mapping\": {\n",
    "        'High school': 0,\n",
    "        'Some college': 1,\n",
    "        'Bachelor’s degree': 2,\n",
    "        'Master’s degree': 3,\n",
    "        'Doctoral degree': 4,\n",
    "        'Professional doctorate': 5\n",
    "    }}, {\n",
    "    \"col\": \"experience_prog\",\n",
    "    \"mapping\": {\n",
    "        '< 1 years':0, \n",
    "        '1-3 years':1,\n",
    "        '3-5 years':2,\n",
    "        '5-10 years':3,\n",
    "        '10-20 years':4,\n",
    "        '20+ years':5 \n",
    "    }}, {\n",
    "    \"col\": \"experience_ml\",\n",
    "    \"mapping\": {\n",
    "        'Under 1 year':0, \n",
    "        '1-2 years':1,\n",
    "        '2-3 years':2,\n",
    "        '3-4 years':3,\n",
    "        '4-5 years':4,\n",
    "        '5-10 years':5,\n",
    "        '10-20 years':6,\n",
    "        '20 or more years':7\n",
    "    }}, {\n",
    "    \"col\": \"company_size_g\",\n",
    "    \"mapping\": {\n",
    "        'Small':0, \n",
    "        'Medium':1,\n",
    "        'Large':2\n",
    "    }}, {\n",
    "    \"col\": \"industry\",\n",
    "    \"mapping\": {\n",
    "        'Computers/Technology': 0,\n",
    "        'Academics/Education': 1,\n",
    "        'Accounting/Finance': 2,\n",
    "        'Other': 3,\n",
    "        'Medical/Pharmaceutical': 4,\n",
    "        'Manufacturing/Fabrication': 5,\n",
    "        'Government/Public Service': 6,\n",
    "        'Online Service/Internet-based Services': 7,\n",
    "        'Energy/Mining': 8,\n",
    "        'Retail/Sales': 9,\n",
    "        'Insurance/Risk Assessment': 10,\n",
    "        'Broadcasting/Communications': 11,\n",
    "        'Shipping/Transportation': 12,\n",
    "        'Marketing/CRM': 13,\n",
    "        'Online Business/Internet-based Sales': 14,\n",
    "        'Military/Security/Defense': 15,\n",
    "        'Non-profit/Service': 16,\n",
    "        'Hospitality/Entertainment/Sports': 17\n",
    "       \n",
    "    }}, {\n",
    "    \"col\": \"country\",\n",
    "    \"mapping\": {\n",
    "        'Russia': 0,\n",
    "        'UK': 1,\n",
    "        'Spain': 2,\n",
    "        'Germany': 3,\n",
    "        'France': 4,\n",
    "        'Italy': 5,\n",
    "        'Poland': 6,\n",
    "        'Netherlands': 7,\n",
    "        'Ukraine': 8,\n",
    "        'Portugal': 9,\n",
    "        'Greece': 10,\n",
    "        'Ireland': 11,\n",
    "        'Sweden': 12,\n",
    "        'Switzerland': 13,\n",
    "        'Belgium': 14,\n",
    "        'Romania': 15,\n",
    "        'Czech Republic': 16,\n",
    "        'Denmark': 17,\n",
    "        'Austria': 18,\n",
    "        'Belarus': 19\n",
    "    }}, {\n",
    "    \"col\": \"role_group\",\n",
    "    \"mapping\": {\n",
    "        'Data Scientist':0, \n",
    "        'Data Engineer':1,\n",
    "        'Data Analyst':2,\n",
    "        'Other': 3\n",
    "    }}, {\n",
    "    \"col\": \"team_size_g\",\n",
    "    \"mapping\": {\n",
    "        'Small':0, \n",
    "        'Medium':1,\n",
    "        'Large':2,\n",
    "        'No team': 3\n",
    "    }}\n",
    "]"
   ]
  },
  {
   "cell_type": "code",
   "execution_count": 39,
   "metadata": {},
   "outputs": [],
   "source": [
    "import category_encoders as ce\n",
    "encoder = ce.OrdinalEncoder(mapping = ordinal_cols_mapping, \n",
    "                             return_df = True)"
   ]
  },
  {
   "cell_type": "code",
   "execution_count": 40,
   "metadata": {
    "scrolled": true
   },
   "outputs": [
    {
     "name": "stdout",
     "output_type": "stream",
     "text": [
      "       age  gender  country  education  experience_prog  programming_lang_c  \\\n",
      "10       4       0       10          4                4                   4   \n",
      "11       7       0       14          2                5                   2   \n",
      "17       2       1        6          3                2                   2   \n",
      "24       2       0        5          3                1                   2   \n",
      "38       0       0        0          2                2                   2   \n",
      "...    ...     ...      ...        ...              ...                 ...   \n",
      "14320    3       0       12          3                1                   1   \n",
      "14332    9       0       12          4                4                   2   \n",
      "14345    3       0        9          3                4                   4   \n",
      "14348    2       0        3          3                1                   2   \n",
      "14369    4       0        5          2                2                   2   \n",
      "\n",
      "       experience_ml  industry  company_size_g  team_size_g  role_group  \n",
      "10                 4         1               1            0           0  \n",
      "11                 1         8               2            0           2  \n",
      "17                 0         0               0            0           1  \n",
      "24                 0         8               0            0           3  \n",
      "38                 0         0               0            3           1  \n",
      "...              ...       ...             ...          ...         ...  \n",
      "14320              2         7               0            0           0  \n",
      "14332              6         6               0            0           2  \n",
      "14345              5         5               2            2           1  \n",
      "14348              1         0               2            2           0  \n",
      "14369              1         0               2            0           2  \n",
      "\n",
      "[2269 rows x 11 columns]\n"
     ]
    }
   ],
   "source": [
    "X = encoder.fit_transform(X)\n",
    "print(X)"
   ]
  },
  {
   "cell_type": "code",
   "execution_count": 67,
   "metadata": {},
   "outputs": [],
   "source": [
    "from sklearn.preprocessing import OrdinalEncoder"
   ]
  },
  {
   "cell_type": "code",
   "execution_count": 68,
   "metadata": {},
   "outputs": [],
   "source": [
    "enc = OrdinalEncoder()\n",
    "X = enc.fit_transform(X)"
   ]
  },
  {
   "cell_type": "code",
   "execution_count": 69,
   "metadata": {},
   "outputs": [],
   "source": [
    "X_train, X_test, y_train, y_test = train_test_split(X, y, test_size=0.20, random_state=42)"
   ]
  },
  {
   "cell_type": "code",
   "execution_count": 70,
   "metadata": {},
   "outputs": [
    {
     "name": "stdout",
     "output_type": "stream",
     "text": [
      "0.33133801832449594\n"
     ]
    }
   ],
   "source": [
    "clf = RandomForestRegressor(max_depth=2, random_state=0)\n",
    "clf.fit(X_train, y_train)\n",
    "print(clf.score(X_test, y_test))"
   ]
  },
  {
   "cell_type": "code",
   "execution_count": 77,
   "metadata": {},
   "outputs": [
    {
     "name": "stdout",
     "output_type": "stream",
     "text": [
      "0.5554667969885456\n"
     ]
    }
   ],
   "source": [
    "clf = RandomForestRegressor(random_state=0, max_features='auto', min_samples_leaf=1,min_samples_split=2, max_depth=12, n_estimators=500)\n",
    "clf.fit(X_train, y_train)\n",
    "print(clf.score(X_test, y_test))"
   ]
  },
  {
   "cell_type": "code",
   "execution_count": 78,
   "metadata": {},
   "outputs": [
    {
     "name": "stdout",
     "output_type": "stream",
     "text": [
      "Mean Absolute Error: 4.09 degrees.\n"
     ]
    }
   ],
   "source": [
    "# Use the forest's predict method on the test data\n",
    "predictions = clf.predict(X_test)\n",
    "# Calculate the absolute errors\n",
    "errors = abs(predictions - y_test)\n",
    "# Print out the mean absolute error (mae)\n",
    "print('Mean Absolute Error:', round(np.mean(errors), 2), 'degrees.')"
   ]
  },
  {
   "cell_type": "code",
   "execution_count": 86,
   "metadata": {},
   "outputs": [
    {
     "name": "stdout",
     "output_type": "stream",
     "text": [
      "Accuracy: 75.99 %.\n"
     ]
    }
   ],
   "source": [
    "# Calculate mean absolute percentage error (MAPE)\n",
    "mape = 100 * (errors / y_test)\n",
    "# Calculate and display accuracy\n",
    "accuracy = 100 - np.mean(mape)\n",
    "print('Accuracy:', round(accuracy, 2), '%.')"
   ]
  },
  {
   "cell_type": "code",
   "execution_count": 81,
   "metadata": {},
   "outputs": [],
   "source": [
    "clf.fit(X_train, y_train)\n",
    "y_pred = clf.predict(X_test)"
   ]
  },
  {
   "cell_type": "code",
   "execution_count": 82,
   "metadata": {},
   "outputs": [
    {
     "name": "stdout",
     "output_type": "stream",
     "text": [
      "2.359532257262029\n"
     ]
    }
   ],
   "source": [
    "from sklearn.metrics import mean_squared_error\n",
    "MSE= mean_squared_error(y_test, y_pred, squared=False)\n",
    "#MSE = np.square(np.subtract(y_actual,y_predicted)).mean() \n",
    "import math\n",
    "RMSE = math.sqrt(MSE)\n",
    "print(RMSE)"
   ]
  },
  {
   "cell_type": "code",
   "execution_count": 85,
   "metadata": {},
   "outputs": [
    {
     "ename": "AttributeError",
     "evalue": "'numpy.ndarray' object has no attribute 'head'",
     "output_type": "error",
     "traceback": [
      "\u001b[0;31m---------------------------------------------------------------------------\u001b[0m",
      "\u001b[0;31mAttributeError\u001b[0m                            Traceback (most recent call last)",
      "\u001b[0;32m<ipython-input-85-8503667d16c5>\u001b[0m in \u001b[0;36m<module>\u001b[0;34m\u001b[0m\n\u001b[1;32m      1\u001b[0m \u001b[0;32mimport\u001b[0m \u001b[0mnumpy\u001b[0m \u001b[0;32mas\u001b[0m \u001b[0mnp\u001b[0m\u001b[0;34m\u001b[0m\u001b[0;34m\u001b[0m\u001b[0m\n\u001b[1;32m      2\u001b[0m \u001b[0mclf\u001b[0m\u001b[0;34m.\u001b[0m\u001b[0mfit\u001b[0m\u001b[0;34m(\u001b[0m\u001b[0mX_train\u001b[0m\u001b[0;34m,\u001b[0m \u001b[0my_train\u001b[0m\u001b[0;34m)\u001b[0m\u001b[0;34m\u001b[0m\u001b[0;34m\u001b[0m\u001b[0m\n\u001b[0;32m----> 3\u001b[0;31m \u001b[0mX_train\u001b[0m\u001b[0;34m.\u001b[0m\u001b[0mhead\u001b[0m\u001b[0;34m(\u001b[0m\u001b[0;34m)\u001b[0m\u001b[0;34m\u001b[0m\u001b[0;34m\u001b[0m\u001b[0m\n\u001b[0m\u001b[1;32m      4\u001b[0m \u001b[0mfeature_names\u001b[0m \u001b[0;34m=\u001b[0m \u001b[0mX_train\u001b[0m\u001b[0;34m.\u001b[0m\u001b[0mcolumns\u001b[0m\u001b[0;34m\u001b[0m\u001b[0;34m\u001b[0m\u001b[0m\n\u001b[1;32m      5\u001b[0m \u001b[0mfeature_names\u001b[0m \u001b[0;34m=\u001b[0m \u001b[0mlist\u001b[0m\u001b[0;34m(\u001b[0m\u001b[0mfeature_names\u001b[0m\u001b[0;34m)\u001b[0m\u001b[0;34m\u001b[0m\u001b[0;34m\u001b[0m\u001b[0m\n",
      "\u001b[0;31mAttributeError\u001b[0m: 'numpy.ndarray' object has no attribute 'head'"
     ]
    }
   ],
   "source": [
    "import numpy as np\n",
    "clf.fit(X_train, y_train)\n",
    "X_train.head()\n",
    "feature_names = X_train.columns\n",
    "feature_names = list(feature_names)\n",
    "\n",
    "df_fs = pd.DataFrame(list(zip(feature_names, clf.feature_importances_)))\n",
    "df_fs.columns = ['columns_name', 'score_feature_importance']\n",
    "df_fs.sort_values(by=['score_feature_importance'], ascending = False)"
   ]
  },
  {
   "cell_type": "code",
   "execution_count": 41,
   "metadata": {},
   "outputs": [],
   "source": [
    "X_train, X_test, y_train, y_test = train_test_split(X, y, test_size=0.20, random_state=42)"
   ]
  },
  {
   "cell_type": "code",
   "execution_count": 42,
   "metadata": {},
   "outputs": [
    {
     "name": "stdout",
     "output_type": "stream",
     "text": [
      "0.23336587967956746\n"
     ]
    }
   ],
   "source": [
    "clf = RandomForestRegressor(max_depth=2, random_state=0)\n",
    "clf.fit(X_train, y_train)\n",
    "print(clf.score(X_test, y_test))"
   ]
  },
  {
   "cell_type": "code",
   "execution_count": 43,
   "metadata": {},
   "outputs": [
    {
     "name": "stdout",
     "output_type": "stream",
     "text": [
      "Mean Absolute Error: 22.98 degrees.\n"
     ]
    }
   ],
   "source": [
    "# Use the forest's predict method on the test data\n",
    "predictions = clf.predict(X_test)\n",
    "# Calculate the absolute errors\n",
    "errors = abs(predictions - y_test)\n",
    "# Print out the mean absolute error (mae)\n",
    "print('Mean Absolute Error:', round(np.mean(errors), 2), 'degrees.')"
   ]
  },
  {
   "cell_type": "code",
   "execution_count": 44,
   "metadata": {},
   "outputs": [
    {
     "name": "stdout",
     "output_type": "stream",
     "text": [
      "Accuracy: 48.39 %.\n"
     ]
    }
   ],
   "source": [
    "# Calculate mean absolute percentage error (MAPE)\n",
    "mape = 100 * (errors / y_test)\n",
    "# Calculate and display accuracy\n",
    "accuracy = 100 - np.mean(mape)\n",
    "print('Accuracy:', round(accuracy, 2), '%.')"
   ]
  },
  {
   "cell_type": "code",
   "execution_count": 45,
   "metadata": {},
   "outputs": [
    {
     "name": "stdout",
     "output_type": "stream",
     "text": [
      "0.3813287337564226\n"
     ]
    }
   ],
   "source": [
    "clf = RandomForestRegressor(random_state=0, max_features='sqrt', min_samples_leaf=1,min_samples_split=5, max_depth=14, n_estimators=200)\n",
    "clf.fit(X_train, y_train)\n",
    "print(clf.score(X_test, y_test))"
   ]
  },
  {
   "cell_type": "code",
   "execution_count": 46,
   "metadata": {},
   "outputs": [
    {
     "name": "stdout",
     "output_type": "stream",
     "text": [
      "Mean Absolute Error: 20.05 degrees.\n"
     ]
    }
   ],
   "source": [
    "# Use the forest's predict method on the test data\n",
    "predictions = clf.predict(X_test)\n",
    "# Calculate the absolute errors\n",
    "errors = abs(predictions - y_test)\n",
    "# Print out the mean absolute error (mae)\n",
    "print('Mean Absolute Error:', round(np.mean(errors), 2), 'degrees.')"
   ]
  },
  {
   "cell_type": "code",
   "execution_count": 47,
   "metadata": {},
   "outputs": [
    {
     "name": "stdout",
     "output_type": "stream",
     "text": [
      "Accuracy: 55.47 %.\n"
     ]
    }
   ],
   "source": [
    "# Calculate mean absolute percentage error (MAPE)\n",
    "mape = 100 * (errors / y_test)\n",
    "# Calculate and display accuracy\n",
    "accuracy = 100 - np.mean(mape)\n",
    "print('Accuracy:', round(accuracy, 2), '%.')"
   ]
  },
  {
   "cell_type": "code",
   "execution_count": 49,
   "metadata": {},
   "outputs": [],
   "source": [
    "clf.fit(X_train, y_train)\n",
    "y_pred = clf.predict(X_test)"
   ]
  },
  {
   "cell_type": "code",
   "execution_count": 52,
   "metadata": {},
   "outputs": [],
   "source": [
    "from sklearn.metrics import mean_squared_error\n",
    "MSE= mean_squared_error(y_test, y_pred, squared=False)"
   ]
  },
  {
   "cell_type": "code",
   "execution_count": 53,
   "metadata": {},
   "outputs": [
    {
     "name": "stdout",
     "output_type": "stream",
     "text": [
      "5.126561403460362\n"
     ]
    }
   ],
   "source": [
    "\n",
    "from sklearn.metrics import mean_squared_error\n",
    "MSE= mean_squared_error(y_test, y_pred, squared=False)\n",
    "#MSE = np.square(np.subtract(y_actual,y_predicted)).mean() \n",
    "import math\n",
    "RMSE = math.sqrt(MSE)\n",
    "print(RMSE)"
   ]
  },
  {
   "cell_type": "code",
   "execution_count": 51,
   "metadata": {},
   "outputs": [
    {
     "name": "stdout",
     "output_type": "stream",
     "text": [
      "5.126561403460362\n"
     ]
    }
   ],
   "source": [
    "#MSE = np.square(np.subtract(y_actual,y_predicted)).mean() \n",
    "import math\n",
    "RMSE = math.sqrt(t)\n",
    "print(RMSE)"
   ]
  },
  {
   "cell_type": "code",
   "execution_count": 42,
   "metadata": {},
   "outputs": [
    {
     "data": {
      "text/plain": [
       "{'max_depth': 20,\n",
       " 'max_features': 'auto',\n",
       " 'min_samples_leaf': 2,\n",
       " 'min_samples_split': 15,\n",
       " 'n_estimators': 400}"
      ]
     },
     "execution_count": 42,
     "metadata": {},
     "output_type": "execute_result"
    }
   ],
   "source": [
    "from sklearn.model_selection import GridSearchCV\n",
    "param_grid = {\n",
    "    'n_estimators': [50, 80, 100, 200, 400],\n",
    "    'min_samples_split': [1,2,4, 5, 10, 15],\n",
    "    #'min_leaf_size': [50, 60, 70],\n",
    "    'min_samples_leaf' : [1, 2, 3, 4, 5],\n",
    "    'max_depth': [8, 12, 14, 16, 18, 20],\n",
    "    'max_features': ['sqrt', 'auto', 'log2']\n",
    "#    'max_samples' : ['None', 0.5]\n",
    "    }\n",
    "clf = RandomForestRegressor(random_state=100)\n",
    "\n",
    "grid_search = GridSearchCV(clf, param_grid, cv=5,return_train_score=True,n_jobs=-1)\n",
    "grid_search.fit(X_train,y_train)\n",
    "grid_search.best_params_ #To check the best set of parameters returned"
   ]
  },
  {
   "cell_type": "code",
   "execution_count": 54,
   "metadata": {},
   "outputs": [
    {
     "name": "stdout",
     "output_type": "stream",
     "text": [
      "0.3623322307907054\n"
     ]
    }
   ],
   "source": [
    "clf = RandomForestRegressor(random_state=0, max_features='auto', min_samples_leaf=2,min_samples_split=15, max_depth=20, n_estimators=400)\n",
    "clf.fit(X_train, y_train)\n",
    "print(clf.score(X_test, y_test))"
   ]
  },
  {
   "cell_type": "code",
   "execution_count": 55,
   "metadata": {},
   "outputs": [],
   "source": [
    "from sklearn.metrics import mean_squared_error\n",
    "MSE = mean_squared_error(y_test, y_pred, squared=False)"
   ]
  },
  {
   "cell_type": "code",
   "execution_count": 56,
   "metadata": {},
   "outputs": [
    {
     "name": "stdout",
     "output_type": "stream",
     "text": [
      "5.126561403460362\n"
     ]
    }
   ],
   "source": [
    "#MSE = np.square(np.subtract(y_actual,y_predicted)).mean() \n",
    "import math\n",
    "RMSE = math.sqrt(t)\n",
    "print(RMSE)"
   ]
  },
  {
   "cell_type": "code",
   "execution_count": null,
   "metadata": {},
   "outputs": [],
   "source": []
  }
 ],
 "metadata": {
  "kernelspec": {
   "display_name": "Python 3",
   "language": "python",
   "name": "python3"
  },
  "language_info": {
   "codemirror_mode": {
    "name": "ipython",
    "version": 3
   },
   "file_extension": ".py",
   "mimetype": "text/x-python",
   "name": "python",
   "nbconvert_exporter": "python",
   "pygments_lexer": "ipython3",
   "version": "3.8.5"
  },
  "toc": {
   "base_numbering": 1,
   "nav_menu": {},
   "number_sections": true,
   "sideBar": true,
   "skip_h1_title": false,
   "title_cell": "Table of Contents",
   "title_sidebar": "Contents",
   "toc_cell": true,
   "toc_position": {},
   "toc_section_display": true,
   "toc_window_display": false
  }
 },
 "nbformat": 4,
 "nbformat_minor": 4
}
